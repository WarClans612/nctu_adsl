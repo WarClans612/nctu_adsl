{
 "cells": [
  {
   "cell_type": "code",
   "execution_count": 1,
   "metadata": {},
   "outputs": [],
   "source": [
    "pixnetFolder = {\n",
    "    'pixnet_dataset/Google Search 關鍵字log/': ['PIXNET_search_log_000000000000.gz', 'PIXNET_search_log_000000000001.gz',\n",
    "        'PIXNET_search_log_000000000002.gz', 'PIXNET_search_log_000000000003.gz', 'PIXNET_search_log_url_articles.gz'],\n",
    "    'pixnet_dataset/HotelsCombined API/':  ['Hackathon_Hotels_TW_CN.csv', 'Hackathon_Hotels_TW_EN.csv', \n",
    "        'HotelsCombined API -Hackathon.pdf', 'Themes.xlsx'],\n",
    "    'pixnet_dataset/HotelsCombined 導流 log - PIXNET 瀏覽 logs/': ['HotelsCombined_log.gz', 'HotelsCombined_log_referrer_url_articles.zip'],\n",
    "    'pixnet_dataset/HotelsCombined 導流 log - 交易紀錄數量資料/': ['HotelsCombined_transaction_record.gz', 'HotelsCombined_Zone_欄位說明.pdf'],\n",
    "    'pixnet_dataset/使用者瀏覽log/': ['PIXNET_visit_log_000000000000.gz', 'PIXNET_visit_log_000000000001.gz',\n",
    "        'PIXNET_visit_log_000000000002.gz', 'PIXNET_visit_log_000000000003.gz', 'PIXNET_visit_log_000000000004.gz',\n",
    "        'PIXNET_visit_log_000000000005.gz', 'PIXNET_visit_log_url_articles.gz'],\n",
    "    'pixnet_dataset/使用者點擊log/': ['PIXNET_event_log_000000000000.gz', 'PIXNET_event_log_000000000001.gz',\n",
    "        'PIXNET_event_log_000000000002.gz', 'PIXNET_event_log_000000000003.gz', 'PIXNET_event_log_000000000004.gz',\n",
    "        'PIXNET_event_log_000000000005.gz', 'PIXNET_event_log_000000000006.gz', 'PIXNET_event_log_url_articles.zip'],\n",
    "    'pixnet_dataset/文章資料集/': ['articles_182k.gz']\n",
    "}"
   ]
  },
  {
   "cell_type": "code",
   "execution_count": 2,
   "metadata": {},
   "outputs": [],
   "source": [
    "from data_extractor import *\n",
    "import json\n",
    "import re"
   ]
  },
  {
   "cell_type": "code",
   "execution_count": 3,
   "metadata": {},
   "outputs": [],
   "source": [
    "with open('poi_data/scenic_spot_with_alias.json', encoding='utf-8-sig') as f:\n",
    "    scenic_spot = json.load(f)\n",
    "    scenic_spot = scenic_spot['XML_Head']['Infos']['Info']\n",
    "    \n",
    "with open('poi_data/poi_name.json', 'w', encoding='utf8') as f:\n",
    "    scenic_spot = list([spot['Name'], *spot['alias']] for spot in scenic_spot)\n",
    "    scenic_spot.sort()\n",
    "    scenic_spot = scenic_spot[::-1]\n",
    "    scenic_spot = [item for pair in scenic_spot for item in pair]\n",
    "    scenic_spot = {item: index for index, item in enumerate(scenic_spot)}\n",
    "    scenic_spot = list(scenic_spot.keys())\n",
    "\n",
    "    json.dump(scenic_spot, f, indent=4, ensure_ascii=False)"
   ]
  },
  {
   "cell_type": "code",
   "execution_count": 4,
   "metadata": {},
   "outputs": [],
   "source": [
    "import multiprocessing\n",
    "dataset = PixnetArticle()\n",
    "input_data = list(json.loads(data) for data in dataset if json.loads(data)['site_category'] == '國內旅遊')"
   ]
  },
  {
   "cell_type": "code",
   "execution_count": 5,
   "metadata": {},
   "outputs": [],
   "source": [
    "def matching_poi(data):\n",
    "    mapping = {}\n",
    "    pattern = '|'.join(re.escape(loc) for loc in scenic_spot if len(loc) > 1)\n",
    "    matched_generator = re.finditer(pattern, data['content'])\n",
    "    for matched in matched_generator:\n",
    "        if data['url'] not in mapping:\n",
    "            mapping[data['url']] = [matched.group(0)]\n",
    "        else:\n",
    "            mapping[data['url']].append(matched.group(0))\n",
    "    return mapping\n",
    "\n",
    "result = []\n",
    "with multiprocessing.Pool(max(int(multiprocessing.cpu_count()), 1)) as p:\n",
    "    result.extend(p.map(matching_poi, input_data))\n",
    "    p.close()\n",
    "    \n",
    "result = [data for data in result if data]"
   ]
  },
  {
   "cell_type": "code",
   "execution_count": 6,
   "metadata": {},
   "outputs": [],
   "source": [
    "mapping = {}\n",
    "for data in result:\n",
    "    mapping = {**mapping, **data}\n",
    "for url in mapping:\n",
    "    mapping[url] = {item: index for index, item in enumerate(mapping[url]) if len(item) > 1}\n",
    "    mapping[url] = list(mapping[url].keys())"
   ]
  },
  {
   "cell_type": "code",
   "execution_count": 7,
   "metadata": {},
   "outputs": [],
   "source": [
    "with open('poi_data/scenic_spot_with_alias.json', encoding='utf-8-sig') as f:\n",
    "    scenic_spot = json.load(f)\n",
    "    scenic_spot = scenic_spot['XML_Head']['Infos']['Info']\n",
    "    scenic_spot = {data['Name']: data['alias'] for data in scenic_spot}\n",
    "    \n",
    "for url in mapping:\n",
    "    for index, loc in enumerate(mapping[url]):\n",
    "        #Mapping name back to original\n",
    "        for name in scenic_spot:\n",
    "            if loc in scenic_spot[name]:\n",
    "                mapping[url][index] = name"
   ]
  },
  {
   "cell_type": "code",
   "execution_count": 8,
   "metadata": {},
   "outputs": [],
   "source": [
    "with open('poi_data/article2POIlist.json', 'w', encoding='utf8') as f:\n",
    "    json.dump(mapping, f, indent=4, ensure_ascii=False)"
   ]
  },
  {
   "cell_type": "code",
   "execution_count": 9,
   "metadata": {},
   "outputs": [],
   "source": [
    "count_mapping = {}\n",
    "for data in mapping.values():\n",
    "    data = set(data)\n",
    "    count = 0\n",
    "    for key in mapping:\n",
    "        if set(mapping[key]) == data:\n",
    "            count += 1\n",
    "            \n",
    "    count_mapping[str(data)] = [data, count]"
   ]
  },
  {
   "cell_type": "code",
   "execution_count": 10,
   "metadata": {},
   "outputs": [
    {
     "name": "stdout",
     "output_type": "stream",
     "text": [
      "1475\n"
     ]
    }
   ],
   "source": [
    "count = 0\n",
    "for keys in count_mapping:\n",
    "    if len(count_mapping[keys][0]) > 1 and count_mapping[keys][1] > 1:\n",
    "        count += 1\n",
    "print(count)"
   ]
  },
  {
   "cell_type": "code",
   "execution_count": 11,
   "metadata": {},
   "outputs": [
    {
     "name": "stdout",
     "output_type": "stream",
     "text": [
      "['武陵農場', '南澳農場', '露營區', '南化水庫', '皇后鎮森林']\n",
      "['綠色隧道', '鶯歌車站']\n",
      "['蓮花池']\n",
      "['豐樂雕塑公園']\n",
      "['鯤喜灣-親水公園']\n",
      "['水頭碼頭', '模範街', '獅山砲陣地', '馬山觀測所', '沙美老街', '陽翟老街', '毋忘在莒', '莒光樓', '水頭聚落', '得月樓', '黃輝煌洋樓', '金水國小', '金門酒廠']\n",
      "['國立自然科學博物館', '潭雅神綠園道']\n",
      "['原住民文化會館']\n",
      "['后里馬場', '后豐鐵馬道']\n",
      "['三坑老街', '三坑自然生態公園']\n",
      "['薰衣草森林']\n"
     ]
    }
   ],
   "source": [
    "for index, data in enumerate(mapping):\n",
    "    print(mapping[data])\n",
    "    if index == 10:\n",
    "        break"
   ]
  },
  {
   "cell_type": "code",
   "execution_count": null,
   "metadata": {},
   "outputs": [],
   "source": []
  }
 ],
 "metadata": {
  "kernelspec": {
   "display_name": "Python 3",
   "language": "python",
   "name": "python3"
  },
  "language_info": {
   "codemirror_mode": {
    "name": "ipython",
    "version": 3
   },
   "file_extension": ".py",
   "mimetype": "text/x-python",
   "name": "python",
   "nbconvert_exporter": "python",
   "pygments_lexer": "ipython3",
   "version": "3.6.8"
  }
 },
 "nbformat": 4,
 "nbformat_minor": 2
}
