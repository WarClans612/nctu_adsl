{
 "cells": [
  {
   "cell_type": "code",
   "execution_count": 1,
   "metadata": {},
   "outputs": [],
   "source": [
    "import json\n",
    "import re\n",
    "import xml.etree.ElementTree as ET "
   ]
  },
  {
   "cell_type": "code",
   "execution_count": 2,
   "metadata": {},
   "outputs": [],
   "source": [
    "with open('poi_data/scenic_spot_C_f.json', 'r', encoding='utf-8-sig') as f:\n",
    "    scenic_spot = json.load(f)"
   ]
  },
  {
   "cell_type": "code",
   "execution_count": 3,
   "metadata": {},
   "outputs": [],
   "source": [
    "def update_scenic_info_xml(info):\n",
    "    for index, data in enumerate(scenic_spot['XML_Head']['Infos']['Info']):\n",
    "        if info.attrib['Name'] == data['Name']:\n",
    "            scenic_spot['XML_Head']['Infos']['Info'][index]['Picture1'] = info.attrib['Picture1']\n",
    "            scenic_spot['XML_Head']['Infos']['Info'][index]['Picdescribe1'] = info.attrib['Picdescribe1']\n",
    "            scenic_spot['XML_Head']['Infos']['Info'][index]['Picture2'] = info.attrib['Picture2']\n",
    "            scenic_spot['XML_Head']['Infos']['Info'][index]['Picdescribe2'] = info.attrib['Picdescribe2']\n",
    "            scenic_spot['XML_Head']['Infos']['Info'][index]['Picture3'] = info.attrib['Picture3']\n",
    "            scenic_spot['XML_Head']['Infos']['Info'][index]['Picdescribe3'] = info.attrib['Picdescribe3']"
   ]
  },
  {
   "cell_type": "code",
   "execution_count": 4,
   "metadata": {},
   "outputs": [],
   "source": [
    "tree = ET.parse('poi_data/南投縣景點資料.xml') \n",
    "root = tree.getroot() \n",
    "for infos in root.findall('./Infos'):\n",
    "    for info in infos:\n",
    "        update_scenic_info_xml(info)"
   ]
  },
  {
   "cell_type": "code",
   "execution_count": 5,
   "metadata": {},
   "outputs": [
    {
     "data": {
      "text/plain": [
       "\"\\nwith open('poi_data/台中市景點資料.json', 'r', encoding='utf-8-sig') as f:\\n    infos = json.load(f).['ROOT']['RECORD']\\n    \\nfor info in infos:\\n    for index, data in enumerate(scenic_spot['XML_Head']['Infos']['Info']):\\n        if info['名稱'] == data['Name']:\\n            scenic_spot['XML_Head']['Infos']['Info'][index]['Picture1'] = info.attrib['Picture1']\\n            scenic_spot['XML_Head']['Infos']['Info'][index]['Picdescribe1'] = info.attrib['Picdescribe1']\\n            scenic_spot['XML_Head']['Infos']['Info'][index]['Picture2'] = info.attrib['Picture2']\\n            scenic_spot['XML_Head']['Infos']['Info'][index]['Picdescribe2'] = info.attrib['Picdescribe2']\\n            scenic_spot['XML_Head']['Infos']['Info'][index]['Picture3'] = info.attrib['Picture3']\\n            scenic_spot['XML_Head']['Infos']['Info'][index]['Picdescribe3'] = info.attrib['Picdescribe3']\\n\""
      ]
     },
     "execution_count": 5,
     "metadata": {},
     "output_type": "execute_result"
    }
   ],
   "source": [
    "'''\n",
    "with open('poi_data/台中市景點資料.json', 'r', encoding='utf-8-sig') as f:\n",
    "    infos = json.load(f).['ROOT']['RECORD']\n",
    "    \n",
    "for info in infos:\n",
    "    for index, data in enumerate(scenic_spot['XML_Head']['Infos']['Info']):\n",
    "        if info['名稱'] == data['Name']:\n",
    "            scenic_spot['XML_Head']['Infos']['Info'][index]['Picture1'] = info.attrib['Picture1']\n",
    "            scenic_spot['XML_Head']['Infos']['Info'][index]['Picdescribe1'] = info.attrib['Picdescribe1']\n",
    "            scenic_spot['XML_Head']['Infos']['Info'][index]['Picture2'] = info.attrib['Picture2']\n",
    "            scenic_spot['XML_Head']['Infos']['Info'][index]['Picdescribe2'] = info.attrib['Picdescribe2']\n",
    "            scenic_spot['XML_Head']['Infos']['Info'][index]['Picture3'] = info.attrib['Picture3']\n",
    "            scenic_spot['XML_Head']['Infos']['Info'][index]['Picdescribe3'] = info.attrib['Picdescribe3']\n",
    "'''"
   ]
  },
  {
   "cell_type": "code",
   "execution_count": 6,
   "metadata": {},
   "outputs": [],
   "source": [
    "tree = ET.parse('poi_data/嘉義市景點資料.xml') \n",
    "root = tree.getroot() \n",
    "for infos in root.findall('./Infos'):\n",
    "    for info in infos:\n",
    "        update_scenic_info_xml(info)"
   ]
  },
  {
   "cell_type": "code",
   "execution_count": 7,
   "metadata": {},
   "outputs": [
    {
     "data": {
      "text/plain": [
       "\"\\nwith open('poi_data/新北市景點資料.json', 'r', encoding='utf-8-sig') as f:\\n    infos = json.load(f).['ROOT']['RECORD']\\n    \\nfor info in infos:\\n    for index, data in enumerate(scenic_spot['XML_Head']['Infos']['Info']):\\n        if info['名稱'] == data['Name']:\\n            scenic_spot['XML_Head']['Infos']['Info'][index]['Picture1'] = info.attrib['Picture1']\\n            scenic_spot['XML_Head']['Infos']['Info'][index]['Picdescribe1'] = info.attrib['Picdescribe1']\\n            scenic_spot['XML_Head']['Infos']['Info'][index]['Picture2'] = info.attrib['Picture2']\\n            scenic_spot['XML_Head']['Infos']['Info'][index]['Picdescribe2'] = info.attrib['Picdescribe2']\\n            scenic_spot['XML_Head']['Infos']['Info'][index]['Picture3'] = info.attrib['Picture3']\\n            scenic_spot['XML_Head']['Infos']['Info'][index]['Picdescribe3'] = info.attrib['Picdescribe3']\\n\""
      ]
     },
     "execution_count": 7,
     "metadata": {},
     "output_type": "execute_result"
    }
   ],
   "source": [
    "'''\n",
    "with open('poi_data/新北市景點資料.json', 'r', encoding='utf-8-sig') as f:\n",
    "    infos = json.load(f).['ROOT']['RECORD']\n",
    "    \n",
    "for info in infos:\n",
    "    for index, data in enumerate(scenic_spot['XML_Head']['Infos']['Info']):\n",
    "        if info['名稱'] == data['Name']:\n",
    "            scenic_spot['XML_Head']['Infos']['Info'][index]['Picture1'] = info.attrib['Picture1']\n",
    "            scenic_spot['XML_Head']['Infos']['Info'][index]['Picdescribe1'] = info.attrib['Picdescribe1']\n",
    "            scenic_spot['XML_Head']['Infos']['Info'][index]['Picture2'] = info.attrib['Picture2']\n",
    "            scenic_spot['XML_Head']['Infos']['Info'][index]['Picdescribe2'] = info.attrib['Picdescribe2']\n",
    "            scenic_spot['XML_Head']['Infos']['Info'][index]['Picture3'] = info.attrib['Picture3']\n",
    "            scenic_spot['XML_Head']['Infos']['Info'][index]['Picdescribe3'] = info.attrib['Picdescribe3']\n",
    "'''"
   ]
  },
  {
   "cell_type": "code",
   "execution_count": 8,
   "metadata": {},
   "outputs": [
    {
     "data": {
      "text/plain": [
       "\"\\nwith open('poi_data/桃園市景點資料.json', 'r', encoding='utf-8-sig') as f:\\n    infos = json.load(f).['ROOT']['RECORD']\\n    \\nfor info in infos:\\n    for index, data in enumerate(scenic_spot['XML_Head']['Infos']['Info']):\\n        if info['名稱'] == data['Name']:\\n            scenic_spot['XML_Head']['Infos']['Info'][index]['Picture1'] = info.attrib['Picture1']\\n            scenic_spot['XML_Head']['Infos']['Info'][index]['Picdescribe1'] = info.attrib['Picdescribe1']\\n            scenic_spot['XML_Head']['Infos']['Info'][index]['Picture2'] = info.attrib['Picture2']\\n            scenic_spot['XML_Head']['Infos']['Info'][index]['Picdescribe2'] = info.attrib['Picdescribe2']\\n            scenic_spot['XML_Head']['Infos']['Info'][index]['Picture3'] = info.attrib['Picture3']\\n            scenic_spot['XML_Head']['Infos']['Info'][index]['Picdescribe3'] = info.attrib['Picdescribe3']\\n\""
      ]
     },
     "execution_count": 8,
     "metadata": {},
     "output_type": "execute_result"
    }
   ],
   "source": [
    "'''\n",
    "with open('poi_data/桃園市景點資料.json', 'r', encoding='utf-8-sig') as f:\n",
    "    infos = json.load(f).['ROOT']['RECORD']\n",
    "    \n",
    "for info in infos:\n",
    "    for index, data in enumerate(scenic_spot['XML_Head']['Infos']['Info']):\n",
    "        if info['名稱'] == data['Name']:\n",
    "            scenic_spot['XML_Head']['Infos']['Info'][index]['Picture1'] = info.attrib['Picture1']\n",
    "            scenic_spot['XML_Head']['Infos']['Info'][index]['Picdescribe1'] = info.attrib['Picdescribe1']\n",
    "            scenic_spot['XML_Head']['Infos']['Info'][index]['Picture2'] = info.attrib['Picture2']\n",
    "            scenic_spot['XML_Head']['Infos']['Info'][index]['Picdescribe2'] = info.attrib['Picdescribe2']\n",
    "            scenic_spot['XML_Head']['Infos']['Info'][index]['Picture3'] = info.attrib['Picture3']\n",
    "            scenic_spot['XML_Head']['Infos']['Info'][index]['Picdescribe3'] = info.attrib['Picdescribe3']\n",
    "'''"
   ]
  },
  {
   "cell_type": "code",
   "execution_count": 9,
   "metadata": {},
   "outputs": [
    {
     "data": {
      "text/plain": [
       "\"\\nwith open('poi_data/臺南市景點資料.json', 'r', encoding='utf-8-sig') as f:\\n    infos = json.load(f).['ROOT']['RECORD']\\n    \\nfor info in infos:\\n    for index, data in enumerate(scenic_spot['XML_Head']['Infos']['Info']):\\n        if info['名稱'] == data['Name']:\\n            scenic_spot['XML_Head']['Infos']['Info'][index]['Picture1'] = info.attrib['Picture1']\\n            scenic_spot['XML_Head']['Infos']['Info'][index]['Picdescribe1'] = info.attrib['Picdescribe1']\\n            scenic_spot['XML_Head']['Infos']['Info'][index]['Picture2'] = info.attrib['Picture2']\\n            scenic_spot['XML_Head']['Infos']['Info'][index]['Picdescribe2'] = info.attrib['Picdescribe2']\\n            scenic_spot['XML_Head']['Infos']['Info'][index]['Picture3'] = info.attrib['Picture3']\\n            scenic_spot['XML_Head']['Infos']['Info'][index]['Picdescribe3'] = info.attrib['Picdescribe3']\\n\""
      ]
     },
     "execution_count": 9,
     "metadata": {},
     "output_type": "execute_result"
    }
   ],
   "source": [
    "'''\n",
    "with open('poi_data/臺南市景點資料.json', 'r', encoding='utf-8-sig') as f:\n",
    "    infos = json.load(f).['ROOT']['RECORD']\n",
    "    \n",
    "for info in infos:\n",
    "    for index, data in enumerate(scenic_spot['XML_Head']['Infos']['Info']):\n",
    "        if info['名稱'] == data['Name']:\n",
    "            scenic_spot['XML_Head']['Infos']['Info'][index]['Picture1'] = info.attrib['Picture1']\n",
    "            scenic_spot['XML_Head']['Infos']['Info'][index]['Picdescribe1'] = info.attrib['Picdescribe1']\n",
    "            scenic_spot['XML_Head']['Infos']['Info'][index]['Picture2'] = info.attrib['Picture2']\n",
    "            scenic_spot['XML_Head']['Infos']['Info'][index]['Picdescribe2'] = info.attrib['Picdescribe2']\n",
    "            scenic_spot['XML_Head']['Infos']['Info'][index]['Picture3'] = info.attrib['Picture3']\n",
    "            scenic_spot['XML_Head']['Infos']['Info'][index]['Picdescribe3'] = info.attrib['Picdescribe3']\n",
    "'''"
   ]
  },
  {
   "cell_type": "code",
   "execution_count": 10,
   "metadata": {},
   "outputs": [],
   "source": [
    "tree = ET.parse('poi_data/雲林縣景點資料.xml') \n",
    "root = tree.getroot() \n",
    "for infos in root.findall('./Infos'):\n",
    "    for info in infos:\n",
    "        update_scenic_info_xml(info)"
   ]
  },
  {
   "cell_type": "code",
   "execution_count": null,
   "metadata": {},
   "outputs": [],
   "source": []
  }
 ],
 "metadata": {
  "kernelspec": {
   "display_name": "Python 3",
   "language": "python",
   "name": "python3"
  },
  "language_info": {
   "codemirror_mode": {
    "name": "ipython",
    "version": 3
   },
   "file_extension": ".py",
   "mimetype": "text/x-python",
   "name": "python",
   "nbconvert_exporter": "python",
   "pygments_lexer": "ipython3",
   "version": "3.6.8"
  }
 },
 "nbformat": 4,
 "nbformat_minor": 2
}
