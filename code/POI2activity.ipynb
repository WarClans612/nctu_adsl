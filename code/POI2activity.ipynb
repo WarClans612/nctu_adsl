{
 "cells": [
  {
   "cell_type": "code",
   "execution_count": 1,
   "metadata": {},
   "outputs": [],
   "source": [
    "pixnetFolder = {\n",
    "    'pixnet_dataset/Google Search 關鍵字log/': ['PIXNET_search_log_000000000000.gz', 'PIXNET_search_log_000000000001.gz',\n",
    "        'PIXNET_search_log_000000000002.gz', 'PIXNET_search_log_000000000003.gz', 'PIXNET_search_log_url_articles.gz'],\n",
    "    'pixnet_dataset/HotelsCombined API/':  ['Hackathon_Hotels_TW_CN.csv', 'Hackathon_Hotels_TW_EN.csv', \n",
    "        'HotelsCombined API -Hackathon.pdf', 'Themes.xlsx'],\n",
    "    'pixnet_dataset/HotelsCombined 導流 log - PIXNET 瀏覽 logs/': ['HotelsCombined_log.gz', 'HotelsCombined_log_referrer_url_articles.zip'],\n",
    "    'pixnet_dataset/HotelsCombined 導流 log - 交易紀錄數量資料/': ['HotelsCombined_transaction_record.gz', 'HotelsCombined_Zone_欄位說明.pdf'],\n",
    "    'pixnet_dataset/使用者瀏覽log/': ['PIXNET_visit_log_000000000000.gz', 'PIXNET_visit_log_000000000001.gz',\n",
    "        'PIXNET_visit_log_000000000002.gz', 'PIXNET_visit_log_000000000003.gz', 'PIXNET_visit_log_000000000004.gz',\n",
    "        'PIXNET_visit_log_000000000005.gz', 'PIXNET_visit_log_url_articles.gz'],\n",
    "    'pixnet_dataset/使用者點擊log/': ['PIXNET_event_log_000000000000.gz', 'PIXNET_event_log_000000000001.gz',\n",
    "        'PIXNET_event_log_000000000002.gz', 'PIXNET_event_log_000000000003.gz', 'PIXNET_event_log_000000000004.gz',\n",
    "        'PIXNET_event_log_000000000005.gz', 'PIXNET_event_log_000000000006.gz', 'PIXNET_event_log_url_articles.zip'],\n",
    "    'pixnet_dataset/文章資料集/': ['articles_182k.gz']\n",
    "}"
   ]
  },
  {
   "cell_type": "code",
   "execution_count": 2,
   "metadata": {},
   "outputs": [],
   "source": [
    "from data_extractor import *\n",
    "import json\n",
    "import re"
   ]
  },
  {
   "cell_type": "code",
   "execution_count": 3,
   "metadata": {},
   "outputs": [],
   "source": [
    "with open('poi_data/scenic_spot_with_alias.json', encoding='utf-8-sig') as f:\n",
    "    scenic_spot = json.load(f)\n",
    "    scenic_spot = scenic_spot['XML_Head']['Infos']['Info']"
   ]
  },
  {
   "cell_type": "code",
   "execution_count": 4,
   "metadata": {},
   "outputs": [],
   "source": [
    "from ArticutAPI.ArticutAPI import Articut"
   ]
  },
  {
   "cell_type": "code",
   "execution_count": 5,
   "metadata": {},
   "outputs": [],
   "source": [
    "loc_name = {data['Name']: data['alias'] for data in scenic_spot}\n",
    "with open('UserDefinedDictFile.json', 'w', encoding='utf8') as f:\n",
    "    json.dump(loc_name, f, indent=4, ensure_ascii=False)"
   ]
  },
  {
   "cell_type": "code",
   "execution_count": 6,
   "metadata": {},
   "outputs": [
    {
     "name": "stdout",
     "output_type": "stream",
     "text": [
      "Using free Quota\n"
     ]
    }
   ],
   "source": [
    "try:\n",
    "    with open('account.info') as f:\n",
    "        print('Account file exist')\n",
    "        accountInfoDICT = json.load(f)\n",
    "    articut = Articut(username=accountInfoDICT[\"email\"], apikey=accountInfoDICT[\"apikey\"])\n",
    "    print(\"Using account Quota\")\n",
    "except:\n",
    "    articut = Articut()\n",
    "    print(\"Using free Quota\")"
   ]
  },
  {
   "cell_type": "code",
   "execution_count": 7,
   "metadata": {},
   "outputs": [],
   "source": [
    "import time\n",
    "with open('segmentation_log/segmentation_log.json', 'r', encoding='utf8') as f:\n",
    "    segmentation_log = json.load(f)\n",
    "\n",
    "def segment(inputSTR):\n",
    "    if inputSTR in segmentation_log:\n",
    "        print('Input found in segmentation log')\n",
    "        return segmentation_log[inputSTR]['result_pos']\n",
    "    \n",
    "    time.sleep(5)\n",
    "    inputDICT = articut.parse(inputSTR, level=\"lv1\", userDefinedDictFILE='UserDefinedDictFile.json')\n",
    "    if inputDICT[\"status\"] == False:\n",
    "        print(inputDICT)\n",
    "        if inputDICT['msg'].startswith('Internal server error'):\n",
    "            print('Input string:', inputSTR)\n",
    "        if inputDICT['msg'].endswith('Articut 目前只能處理現代白話中文。'):\n",
    "            print('Input string:', inputSTR)\n",
    "        return ''\n",
    "    \n",
    "    print(\"Segmentation status: \", inputDICT[\"status\"])\n",
    "    for index, sentence in enumerate(inputDICT[\"result_pos\"]):\n",
    "        if re.search(\"<.*?>(.*?)</.*?>\", sentence) is None:\n",
    "            inputDICT[\"result_pos\"][index] = \"<Other>\" + inputDICT[\"result_pos\"][index] + \"</Other>\"\n",
    "    result = ''.join(inputDICT[\"result_pos\"])\n",
    "    inputDICT[\"result_pos\"] = result\n",
    "    \n",
    "    segmentation_log[inputSTR] = inputDICT\n",
    "    print('New Entry created in segmentation log')\n",
    "    #print('Segmented string:', result)\n",
    "    return result"
   ]
  },
  {
   "cell_type": "code",
   "execution_count": 8,
   "metadata": {},
   "outputs": [
    {
     "name": "stdout",
     "output_type": "stream",
     "text": [
      "Input found in segmentation log\n",
      "Input found in segmentation log\n",
      "Input found in segmentation log\n",
      "Input found in segmentation log\n",
      "Input found in segmentation log\n",
      "Input found in segmentation log\n",
      "Input found in segmentation log\n",
      "{'status': False, 'msg': \"Internal server error. (Your word count balance is not consumed, don't worry. System will reboot in 5min, please try again later.)\", 'product': 'https://api.droidtown.co/product/', 'document': 'https://api.droidtown.co/document/'}\n",
      "Input string: 台南，志鋼，金屬，觀光工廠\n",
      "{'status': False, 'msg': \"Internal server error. (Your word count balance is not consumed, don't worry. System will reboot in 5min, please try again later.)\", 'product': 'https://api.droidtown.co/product/', 'document': 'https://api.droidtown.co/document/'}\n",
      "Input string: 林口酒廠為擁有近百年歷史的台北酒廠(1921)、板橋酒廠(1937)、樹林酒廠(1906)合併而成的新酒廠，於民國76年春正式啟用量產。原三酒廠各具有不同產品與文化特色，合併後發展為北部地區產能最大、設備最現代化的米糧釀造酒生產工廠。 林口酒廠成立以來一直是以生產紹興酒為主，民國85年利用原紹興酒生產設備釀製日式清酒，成功推出「玉泉清酒」，為全國唯一生產日式清酒之酒廠。民國93年為解決清酒粕副產物問題，開發「台酒清酒粕面膜」產品，定位為天然護膚保養素材，盛況一時，被喻為「窮人的SKII」。民國94年再創新研發，結合東方紅麴與西方葡萄酒，推出具養生概念且適合台灣人口味的「玉泉紅麴葡萄酒」，深獲社會大眾喜愛，為台灣市佔率最高的葡萄酒品牌。 林口酒廠不但致力各項酒類研發，生產方式也變得更加多元。民國96年將釀酒紅麴與餅乾大廠合作開發「台酒紅麴養生薄餅」，風味獨特造成搶購熱潮，風行海內外，短短1年半內創造超過10億元營業額，成為餅乾界之奇蹟。為朝多角化經營，除從事酒品生產外並設置有展售中心，內設「清酒館」「紅麴館」「酒銀行」等製程展館，開放民眾或外來觀光客參觀，一方面讓參訪者可了解製酒的過程與歷史，一方面也促使林口酒廠與工業區內其他景點(如台塑文物館、竹林寺、台塑醫療園區、華亞科技園區等)以及鄰近之鶯歌鎮產業等連結，形成地方產業文化觀光特色主題，除帶動產業觀光，更提昇桃園縣觀光旅遊系統的豐富性。 林口酒廠為配合公司資產活化政策，結合桃園縣推展航空城計畫以及機場捷運線開通啟用，集酒類生產、產業歷史、市場地利等基礎，結合產業文化、創意藝術、人文等資源以塑造工廠公園化，打造清酒意象文化園區，串聯週邊城廓、名勝、景點及公共設施，建構成北部地區指標性之觀光酒廠，期能吸引北臺灣800萬人口，來廠觀光遊憩進而增裕營收。\n",
      "{'status': False, 'msg': \"Internal server error. (Your word count balance is not consumed, don't worry. System will reboot in 5min, please try again later.)\", 'product': 'https://api.droidtown.co/product/', 'document': 'https://api.droidtown.co/document/'}\n",
      "Input string: 林口酒廠為北部地區產能最大、設備最現代化的清酒、紅麴葡萄酒生產工廠。廠內有產品推廣中心，開放參觀製酒過程與歷史，與桃園其他景點連結地方文化特色主題，帶動觀光提昇旅遊的豐富性。\n",
      "Input found in segmentation log\n",
      "Input found in segmentation log\n",
      "Segmentation status:  True\n",
      "New Entry created in segmentation log\n",
      "{'status': False, 'msg': \"Internal server error. (Your word count balance is not consumed, don't worry. System will reboot in 5min, please try again later.)\", 'product': 'https://api.droidtown.co/product/', 'document': 'https://api.droidtown.co/document/'}\n",
      "Input string: 水璉位在花蓮縣壽豐鄉海濱，為阿美族世居之地，早在3，500年前即有繩紋陶文化之先民居住於此。而座落在水璉南方海灘的牛山，阿美族稱此地為Hudin(呼定)，意即大片草地的牧場，此地植物群相豐富，幾乎是東部海岸植物相的縮影，已被劃定為自然生態保護區，綿延數公里的沙灘細緻溫潤，更是絕佳美景，彷彿一片臨海的秘密樂園。\n",
      "Input found in segmentation log\n",
      "{'status': False, 'msg': 'Insufficient word count balance.', 'product': 'https://api.droidtown.co/product/', 'document': 'https://api.droidtown.co/document/'}\n",
      "Input found in segmentation log\n",
      "{'status': False, 'msg': \"Internal server error. (Your word count balance is not consumed, don't worry. System will reboot in 5min, please try again later.)\", 'product': 'https://api.droidtown.co/product/', 'document': 'https://api.droidtown.co/document/'}\n",
      "Input string: 1.石梯坪沒有遮陽設施，海邊日照強，要做好防曬；裝備也要齊全，除了遮陽的帽子、長褲、長袖，解渴的開水更不可少。2.初次造訪，建議沿木棧道前行，從第一座木造涼亭旁的石板步道下去，約2...\n",
      "Input found in segmentation log\n",
      "{'status': False, 'msg': \"Internal server error. (Your word count balance is not consumed, don't worry. System will reboot in 5min, please try again later.)\", 'product': 'https://api.droidtown.co/product/', 'document': 'https://api.droidtown.co/document/'}\n",
      "Input string: 長虹橋橫跨秀姑巒溪，連接靜浦與港口兩聚落，亦是秀姑巒溪泛舟的終點站；橋分新舊兩座橋，新橋採鮮艷亮眼的橙紅色，橋面規劃有快慢車道分隔的腳踏車及人行專用步道，並配合泛舟活動，設置了八座觀景台；橋上可遠眺出海囗的奚卜蘭島，因登島不易，島上仍維持原始林樣貌，俯瞰河面可見許多潔白如玉的大岩塊，其為巨型石灰岩，因其石潔白如玉，因而得到了「秀姑漱玉」的美名。\n",
      "{'status': False, 'msg': 'Insufficient word count balance.', 'product': 'https://api.droidtown.co/product/', 'document': 'https://api.droidtown.co/document/'}\n",
      "{'status': False, 'msg': \"Internal server error. (Your word count balance is not consumed, don't worry. System will reboot in 5min, please try again later.)\", 'product': 'https://api.droidtown.co/product/', 'document': 'https://api.droidtown.co/document/'}\n",
      "Input string: 北回歸線標碑位在北緯23.5度，是太陽直射地球的北界，也是亞熱帶與熱帶的分界。靜浦的北回歸線標碑在台11線公路70.5公里處，是北回歸線途經台灣的最東界。聳立在太平洋旁的白色塔身，十分吸引遊客目光。\n",
      "{'status': False, 'msg': \"Internal server error. (Your word count balance is not consumed, don't worry. System will reboot in 5min, please try again later.)\", 'product': 'https://api.droidtown.co/product/', 'document': 'https://api.droidtown.co/document/'}\n",
      "Input string: 1.北回歸線位於北緯23.5度，它是太陽直射地球的北界；換言之，夏至時太陽沿著此緯度線東昇西落，這座標碑特地設計一個細縫，讓遊客可以透過這座建築觀察這種現象。2.在北回歸線附近有知...\n",
      "{'status': False, 'msg': 'Insufficient word count balance.', 'product': 'https://api.droidtown.co/product/', 'document': 'https://api.droidtown.co/document/'}\n",
      "Input found in segmentation log\n",
      "{'status': False, 'msg': \"Internal server error. (Your word count balance is not consumed, don't worry. System will reboot in 5min, please try again later.)\", 'product': 'https://api.droidtown.co/product/', 'document': 'https://api.droidtown.co/document/'}\n",
      "Input string: 1.為了防止觀光人潮影響到地方環境，到訪的遊客應保持環境清潔，一同維護這塊淨土。2.於夏日天氣炎熱時，請做好防曬措施，以避免被烈日曬傷。3.由於金樽的海灘坡度大，遊客們是禁止下海游...\n",
      "{'status': False, 'msg': 'Insufficient word count balance.', 'product': 'https://api.droidtown.co/product/', 'document': 'https://api.droidtown.co/document/'}\n",
      "{'status': False, 'msg': \"Internal server error. (Your word count balance is not consumed, don't worry. System will reboot in 5min, please try again later.)\", 'product': 'https://api.droidtown.co/product/', 'document': 'https://api.droidtown.co/document/'}\n",
      "Input string: 加路蘭鄰近小野柳風景區，有寬廣的草坪、涼亭、解說站以及觀景台，是東海岸旅行的最佳休息站，區內延續著風化、海蝕景觀，海岸線條紋路特殊，草地上也有不少漂流木裝置藝術作品。每年夏秋之際的加路蘭手創市集，集結一群東海岸藝術創作愛好者以趕集的形式聚集在加路蘭，呈現熱情原味的島嶼海洋風情，是東海岸之旅必遊之地。\n",
      "{'status': False, 'msg': \"Internal server error. (Your word count balance is not consumed, don't worry. System will reboot in 5min, please try again later.)\", 'product': 'https://api.droidtown.co/product/', 'document': 'https://api.droidtown.co/document/'}\n",
      "Input string: 1.為了防止觀光人潮影響到地方環境，到訪的遊客應保持環境清潔，一同維護這塊淨土。2.園區內四周沒有樹木遮陰，因此夏日天氣炎熱時，請做好防曬措施，以避免被烈日曬傷。\n",
      "Input found in segmentation log\n",
      "Input found in segmentation log\n",
      "{'status': False, 'msg': \"Internal server error. (Your word count balance is not consumed, don't worry. System will reboot in 5min, please try again later.)\", 'product': 'https://api.droidtown.co/product/', 'document': 'https://api.droidtown.co/document/'}\n",
      "Input string: 為了防止觀光人潮影響到部落的安寧，或帶來文化的摩擦，到訪的遊客應尊重當地文化，保持環境清潔，一同維護這塊淨土。\n",
      "{'status': False, 'msg': 'Insufficient word count balance.', 'product': 'https://api.droidtown.co/product/', 'document': 'https://api.droidtown.co/document/'}\n",
      "{'status': False, 'msg': \"Internal server error. (Your word count balance is not consumed, don't worry. System will reboot in 5min, please try again later.)\", 'product': 'https://api.droidtown.co/product/', 'document': 'https://api.droidtown.co/document/'}\n",
      "Input string: 成功鎮以前為「麻荖漏社」，1921年日人改為「新港」，戰後改為「成功」，距今3，500年前之麒麟文化，以成功鎮之出土文物為最，可知此地起源甚早。成功漁港為東部海岸地區最大的漁港，面臨太平洋，同時又有黑潮暖流經過，因此水產資源相當豐富。主要的魚類產量為鰹魚、旗魚、鬼頭刀、鮪魚、柴魚等，每天下午3點左右是新港漁港的鮮魚拍賣會，來此可感受漁民們此起彼落的拍賣聲，想要品嚐新鮮魚貨的遊客更是不可錯過哦！\n",
      "{'status': False, 'msg': \"Internal server error. (Your word count balance is not consumed, don't worry. System will reboot in 5min, please try again later.)\", 'product': 'https://api.droidtown.co/product/', 'document': 'https://api.droidtown.co/document/'}\n",
      "Input string: 1.成功鎮商家林立，建議遊客可以預留較多時間在此地用餐、購物，並體驗具特色的東海岸海港風情\n",
      "{'status': False, 'msg': 'Insufficient word count balance.', 'product': 'https://api.droidtown.co/product/', 'document': 'https://api.droidtown.co/document/'}\n",
      "{'status': False, 'msg': \"Internal server error. (Your word count balance is not consumed, don't worry. System will reboot in 5min, please try again later.)\", 'product': 'https://api.droidtown.co/product/', 'document': 'https://api.droidtown.co/document/'}\n",
      "Input string: 位於東管處處本部園區內的阿美族民俗中心於1995年11月興建完成，現由知名的「Amis旮亙樂園」駐點經營，走訪這裡，可看出阿美族特有的居住文化，除了阿美族特色建築外，遊客在此還可進行拉鞦韆、射箭及竹炮等阿美族文化體驗，還有「Amis旮亙樂團」定點表演:舞蹈、歌唱、打擊樂器、排笛、鼻笛等，歡迎一起來唱跳。\n",
      "{'status': False, 'msg': \"Internal server error. (Your word count balance is not consumed, don't worry. System will reboot in 5min, please try again later.)\", 'product': 'https://api.droidtown.co/product/', 'document': 'https://api.droidtown.co/document/'}\n",
      "Input string: 展場開放時間:週一、二、四、五、六、日 09:00~17:00；週三休園展演活動時間: 週一、二、四、五、六:11:00、14:00 定時展演(兩場) 週日:上午演出(預約制...\n",
      "{'status': False, 'msg': \"Internal server error. (Your word count balance is not consumed, don't worry. System will reboot in 5min, please try again later.)\", 'product': 'https://api.droidtown.co/product/', 'document': 'https://api.droidtown.co/document/'}\n",
      "Input string: 紫坪位在綠島最南方，緊鄰「綠島露營區」。從露營區旁的步道，可通往海岸邊的潟湖「紫坪」。「紫坪」是一處由珊瑚礁構成的潮池，也是綠島著名的潟湖所在地，有全綠島最完整的潟湖地形以及珊瑚礁植群，更有茂盛的保育類植物水芫花和珍貴的陸寄居蟹，值得大家共同保護。外海儘管浪濤洶湧，內湖依然波平如鏡，宛若沉睡的湖水，清淺的躺在外珊瑚礁岩與內珊瑚貝砂灘間；水芫花灌叢身影倒映於平靜無波的水面上，潔白柔細的白砂鋪陳水底。熱帶海岸旖旎風情，盡在不言中。\n"
     ]
    },
    {
     "name": "stdout",
     "output_type": "stream",
     "text": [
      "{'status': False, 'msg': \"Internal server error. (Your word count balance is not consumed, don't worry. System will reboot in 5min, please try again later.)\", 'product': 'https://api.droidtown.co/product/', 'document': 'https://api.droidtown.co/document/'}\n",
      "Input string: 紫坪位在綠島最南方，從附近的步道，可通往海岸邊的潟湖。此處是由珊瑚礁構成的潮池，也是綠島著名的潟湖所在地，有全綠島最完整的潟湖地形以及珊瑚礁植群，更有茂盛的保育類植物水芫花和珍貴的陸寄居蟹，值得大家共同保護。\n",
      "{'status': False, 'msg': \"Internal server error. (Your word count balance is not consumed, don't worry. System will reboot in 5min, please try again later.)\", 'product': 'https://api.droidtown.co/product/', 'document': 'https://api.droidtown.co/document/'}\n",
      "Input string: 1、紫坪上方的綠島露營區為生態保護區，禁止採集花木生物，並請維護環境整潔，讓這片美景能留與後代子孫。2、露營區目前已於2009年委由「東方之泉有限股份公司」經營，      聯絡電...\n",
      "Input found in segmentation log\n",
      "Input found in segmentation log\n",
      "{'status': False, 'msg': \"Internal server error. (Your word count balance is not consumed, don't worry. System will reboot in 5min, please try again later.)\", 'product': 'https://api.droidtown.co/product/', 'document': 'https://api.droidtown.co/document/'}\n",
      "Input string: 1、帆船鼻為凸出海岬，地勢極高且海風強勁，請注意不要靠懸崖太近，以策安全。2、愛護大自然生物，並請維護環境整潔。3、夏季日照與冬季寒風甚強，請預作防範。\n",
      "{'status': False, 'msg': 'Insufficient word count balance.', 'product': 'https://api.droidtown.co/product/', 'document': 'https://api.droidtown.co/document/'}\n",
      "Input found in segmentation log\n",
      "{'status': False, 'msg': \"Internal server error. (Your word count balance is not consumed, don't worry. System will reboot in 5min, please try again later.)\", 'product': 'https://api.droidtown.co/product/', 'document': 'https://api.droidtown.co/document/'}\n",
      "Input string: 1、愛護大自然生物，並請維護環境整潔。2、夏季日照與冬季寒風甚強，請預作防範\n",
      "{'status': False, 'msg': 'Insufficient word count balance.', 'product': 'https://api.droidtown.co/product/', 'document': 'https://api.droidtown.co/document/'}\n",
      "{'status': False, 'msg': \"Internal server error. (Your word count balance is not consumed, don't worry. System will reboot in 5min, please try again later.)\", 'product': 'https://api.droidtown.co/product/', 'document': 'https://api.droidtown.co/document/'}\n",
      "Input string: 綠島人權文化園區位於綠島的公館村的將軍岩前方，涵蓋人權紀念碑公園、綠洲山莊等。其中綠洲山莊於白色恐怖時期，專用以囚禁政治犯和思想犯，建物保存完整。山莊內展示許多白色恐怖時期相關史料，每一段記載都是深刻見骨的歷史傷痕。為紀念過去臺灣人權運動發展而犧牲的人們，1996年設立人權紀念公園，2018年更名為白色恐怖綠島紀念園區。\n",
      "{'status': False, 'msg': \"Internal server error. (Your word count balance is not consumed, don't worry. System will reboot in 5min, please try again later.)\", 'product': 'https://api.droidtown.co/product/', 'document': 'https://api.droidtown.co/document/'}\n",
      "Input string: 1.園區內展示史料資料，請懷著莊重的心情感受過去，珍惜現在2.愛護大自然生物，並請維護環境整潔3.夏季日照與冬季寒風甚強，請預作防範4.僅限10人以上提供團體預約、其他則為固定時段...\n",
      "{'status': False, 'msg': 'Insufficient word count balance.', 'product': 'https://api.droidtown.co/product/', 'document': 'https://api.droidtown.co/document/'}\n",
      "{'status': False, 'msg': \"Internal server error. (Your word count balance is not consumed, don't worry. System will reboot in 5min, please try again later.)\", 'product': 'https://api.droidtown.co/product/', 'document': 'https://api.droidtown.co/document/'}\n",
      "Input string: 綠島東北方海岬的牛頭山是綠島地標，三面環海，山頂是一大片草原，是最適合賞海、觀汐、夕照之處。從牛頭山可遙望樓門岩，樓門岩位於綠島東北角海岸外約300m處，是一連串突出海面小珊瑚礁岩塊群，而其中最高大一塊經過海浪擊打侵蝕，中央地方貫穿成圓洞，像拱門一般，因此被稱為「樓門岩」，是綠島最具代表性的海蝕洞穴。\n",
      "{'status': False, 'msg': \"Internal server error. (Your word count balance is not consumed, don't worry. System will reboot in 5min, please try again later.)\", 'product': 'https://api.droidtown.co/product/', 'document': 'https://api.droidtown.co/document/'}\n",
      "Input string: 1、天候不佳時切勿下海，參與潛水活動請接洽當地合法潛水商家，並聽從教練指示活動，勿單獨前往。2、於牛頭山眺望海景時，小心海風強勁，請勿靠近懸崖邊。3、愛護大自然生物，並請維護環境整...\n",
      "{'status': False, 'msg': 'Insufficient word count balance.', 'product': 'https://api.droidtown.co/product/', 'document': 'https://api.droidtown.co/document/'}\n",
      "{'status': False, 'msg': \"Internal server error. (Your word count balance is not consumed, don't worry. System will reboot in 5min, please try again later.)\", 'product': 'https://api.droidtown.co/product/', 'document': 'https://api.droidtown.co/document/'}\n",
      "Input string: 「樟原」位在台東縣東海岸最北端，當地居民以阿美族為主。 最具特色的地標為「樟原基督教長老教會」，是阿美族學習諾亞造方舟的精神，主動奉獻集資自行設計興建完成，被譽為台灣最美之「諾亞方舟」造型教堂。另外，在村落南端的「樟原橋」，共有老、中、新三座橋，平行橫跨在水母丁溪，因為地勢高低不一，形成特殊的景觀，遊客佇足在新橋上，欣賞卵石砌成的舊橋，圓拱型橋身橫跨著溪谷，展現出古樸的風情。\n",
      "{'status': False, 'msg': \"Internal server error. (Your word count balance is not consumed, don't worry. System will reboot in 5min, please try again later.)\", 'product': 'https://api.droidtown.co/product/', 'document': 'https://api.droidtown.co/document/'}\n",
      "Input string: 1.樟原基督教長老教會平日不對外開放，僅週日禮拜時間，若想參加前往，請電洽089-881031。2.進入溪谷或進行溯溪活動時，請結伴同行，以免發生意外時，受困無法脫身 。3.巴歌浪...\n",
      "Exception thrown 'Response' object is not subscriptable\n"
     ]
    }
   ],
   "source": [
    "try:\n",
    "    mapping = {}\n",
    "    for data in scenic_spot:\n",
    "        activity = set()\n",
    "        check_key = ['Toldescribe', 'Description', 'Remarks', 'Keyword']\n",
    "        for key in check_key:\n",
    "            if str(data[key]) == '':\n",
    "                continue\n",
    "            sentence = re.sub('◼️|■|●', '', str(data[key]))\n",
    "            sentence = segment(sentence)\n",
    "            sentence = re.finditer('<ACTION_verb>(.*?)</ACTION_verb>', sentence)\n",
    "            if sentence is not None:\n",
    "                activity.update(entry.group(1) for entry in sentence)\n",
    "        mapping[data['Name']] = list(activity)\n",
    "except Exception as e:\n",
    "    print('Exception thrown', str(e))\n",
    "finally:\n",
    "    with open('segmentation_log/segmentation_log.json', 'w', encoding='utf8') as f:\n",
    "        json.dump(segmentation_log, f, indent=4, ensure_ascii=False)"
   ]
  },
  {
   "cell_type": "code",
   "execution_count": 9,
   "metadata": {},
   "outputs": [],
   "source": [
    "with open('activity/POI2activity.json', 'w', encoding='utf8') as f:\n",
    "    json.dump(mapping, f, indent=4, ensure_ascii=False)"
   ]
  }
 ],
 "metadata": {
  "kernelspec": {
   "display_name": "Python 3",
   "language": "python",
   "name": "python3"
  },
  "language_info": {
   "codemirror_mode": {
    "name": "ipython",
    "version": 3
   },
   "file_extension": ".py",
   "mimetype": "text/x-python",
   "name": "python",
   "nbconvert_exporter": "python",
   "pygments_lexer": "ipython3",
   "version": "3.6.8"
  }
 },
 "nbformat": 4,
 "nbformat_minor": 2
}
