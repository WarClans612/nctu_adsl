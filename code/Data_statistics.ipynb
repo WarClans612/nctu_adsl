{
 "cells": [
  {
   "cell_type": "code",
   "execution_count": 1,
   "metadata": {},
   "outputs": [],
   "source": [
    "pixnetFolder = {\n",
    "    'pixnet_dataset/Google Search 關鍵字log/': ['PIXNET_search_log_000000000000.gz', 'PIXNET_search_log_000000000001.gz',\n",
    "        'PIXNET_search_log_000000000002.gz', 'PIXNET_search_log_000000000003.gz', 'PIXNET_search_log_url_articles.gz'],\n",
    "    'pixnet_dataset/HotelsCombined API/':  ['Hackathon_Hotels_TW_CN.csv', 'Hackathon_Hotels_TW_EN.csv', \n",
    "        'HotelsCombined API -Hackathon.pdf', 'Themes.xlsx'],\n",
    "    'pixnet_dataset/HotelsCombined 導流 log - PIXNET 瀏覽 logs/': ['HotelsCombined_log.gz', 'HotelsCombined_log_referrer_url_articles.zip'],\n",
    "    'pixnet_dataset/HotelsCombined 導流 log - 交易紀錄數量資料/': ['HotelsCombined_transaction_record.gz', 'HotelsCombined_Zone_欄位說明.pdf'],\n",
    "    'pixnet_dataset/使用者瀏覽log/': ['PIXNET_visit_log_000000000000.gz', 'PIXNET_visit_log_000000000001.gz',\n",
    "        'PIXNET_visit_log_000000000002.gz', 'PIXNET_visit_log_000000000003.gz', 'PIXNET_visit_log_000000000004.gz',\n",
    "        'PIXNET_visit_log_000000000005.gz', 'PIXNET_visit_log_url_articles.gz'],\n",
    "    'pixnet_dataset/使用者點擊log/': ['PIXNET_event_log_000000000000.gz', 'PIXNET_event_log_000000000001.gz',\n",
    "        'PIXNET_event_log_000000000002.gz', 'PIXNET_event_log_000000000003.gz', 'PIXNET_event_log_000000000004.gz',\n",
    "        'PIXNET_event_log_000000000005.gz', 'PIXNET_event_log_000000000006.gz', 'PIXNET_event_log_url_articles.zip'],\n",
    "    'pixnet_dataset/文章資料集/': ['articles_182k.gz']\n",
    "}"
   ]
  },
  {
   "cell_type": "code",
   "execution_count": 2,
   "metadata": {},
   "outputs": [],
   "source": [
    "from data_extractor import *\n",
    "import json"
   ]
  },
  {
   "cell_type": "code",
   "execution_count": 3,
   "metadata": {},
   "outputs": [
    {
     "name": "stdout",
     "output_type": "stream",
     "text": [
      "Available data: 2696509\n",
      "Available data: 2690969\n",
      "Available data: 2694717\n",
      "Available data: 2694101\n"
     ]
    }
   ],
   "source": [
    "for dataset_filename in pixnetFolder['pixnet_dataset/Google Search 關鍵字log/'][:-1]:\n",
    "    dataset = GoogleData(dataset_filename)\n",
    "    print('Available data:', sum(1 for _ in dataset))"
   ]
  },
  {
   "cell_type": "code",
   "execution_count": 4,
   "metadata": {},
   "outputs": [
    {
     "name": "stdout",
     "output_type": "stream",
     "text": [
      "Unique Author_id: 27641\n"
     ]
    }
   ],
   "source": [
    "author_id = set()\n",
    "for dataset_filename in pixnetFolder['pixnet_dataset/Google Search 關鍵字log/'][:-1]:\n",
    "    dataset = GoogleData(dataset_filename)\n",
    "    author_id.update(json.loads(data)['author_id'] for data in dataset)\n",
    "with open('statistics/GoogleDatalog_author_id.json', 'w', encoding='utf8') as f:\n",
    "    json.dump(list(author_id), f)\n",
    "print('Unique Author_id:', len(author_id))"
   ]
  },
  {
   "cell_type": "code",
   "execution_count": 5,
   "metadata": {},
   "outputs": [
    {
     "name": "stdout",
     "output_type": "stream",
     "text": [
      "Unique Keyword: 2850095\n"
     ]
    }
   ],
   "source": [
    "keyword = set()\n",
    "for dataset_filename in pixnetFolder['pixnet_dataset/Google Search 關鍵字log/'][:-1]:\n",
    "    dataset = GoogleData(dataset_filename)\n",
    "    keyword.update(json.loads(data)['keyword'] for data in dataset)\n",
    "with open('statistics/GoogleDatalog_keyword.json', 'w', encoding='utf8') as f:\n",
    "    json.dump(list(keyword), f)\n",
    "print('Unique Keyword:', len(keyword))"
   ]
  },
  {
   "cell_type": "code",
   "execution_count": 6,
   "metadata": {},
   "outputs": [
    {
     "name": "stdout",
     "output_type": "stream",
     "text": [
      "Unique Country: 208\n"
     ]
    }
   ],
   "source": [
    "country = set()\n",
    "for dataset_filename in pixnetFolder['pixnet_dataset/Google Search 關鍵字log/'][:-1]:\n",
    "    dataset = GoogleData(dataset_filename)\n",
    "    country.update(json.loads(data)['country'] for data in dataset)\n",
    "with open('statistics/GoogleDatalog_country.json', 'w', encoding='utf8') as f:\n",
    "    json.dump(list(country), f)\n",
    "print('Unique Country:', len(country))"
   ]
  },
  {
   "cell_type": "code",
   "execution_count": 7,
   "metadata": {},
   "outputs": [
    {
     "name": "stdout",
     "output_type": "stream",
     "text": [
      "Unique Device: 3\n"
     ]
    }
   ],
   "source": [
    "device = set()\n",
    "for dataset_filename in pixnetFolder['pixnet_dataset/Google Search 關鍵字log/'][:-1]:\n",
    "    dataset = GoogleData(dataset_filename)\n",
    "    device.update(json.loads(data)['device'] for data in dataset)\n",
    "with open('statistics/GoogleDatalog_device.json', 'w', encoding='utf8') as f:\n",
    "    json.dump(list(device), f)\n",
    "print('Unique Device:', len(device))"
   ]
  },
  {
   "cell_type": "code",
   "execution_count": 8,
   "metadata": {},
   "outputs": [
    {
     "name": "stdout",
     "output_type": "stream",
     "text": [
      "Some data might not have category key in it\n",
      "Unique Category: 42\n"
     ]
    }
   ],
   "source": [
    "category = set()\n",
    "for dataset_filename in pixnetFolder['pixnet_dataset/Google Search 關鍵字log/'][:-1]:\n",
    "    dataset = GoogleData(dataset_filename)\n",
    "    category.update(json.loads(data)['category'] for data in dataset if 'category' in json.loads(data))\n",
    "with open('statistics/GoogleDatalog_category.json', 'w', encoding='utf8') as f:\n",
    "    json.dump(list(category), f)\n",
    "print('Some data might not have category key in it')\n",
    "print('Unique Category:', len(category))"
   ]
  },
  {
   "cell_type": "code",
   "execution_count": 10,
   "metadata": {},
   "outputs": [
    {
     "name": "stdout",
     "output_type": "stream",
     "text": [
      "Unique Category: 41\n"
     ]
    }
   ],
   "source": [
    "category = set()\n",
    "dataset = GoogleData('PIXNET_search_log_url_articles.gz')\n",
    "for data in dataset:\n",
    "    try:\n",
    "        jsondata = json.loads(data)\n",
    "        category.add(jsondata['category'])\n",
    "    except:\n",
    "        pass\n",
    "with open('statistics/GoogleDatalogurl_category.json', 'w', encoding='utf8') as f:\n",
    "    json.dump(list(category), f)\n",
    "print('Unique Category:', len(category))"
   ]
  },
  {
   "cell_type": "code",
   "execution_count": 16,
   "metadata": {
    "scrolled": true
   },
   "outputs": [
    {
     "name": "stdout",
     "output_type": "stream",
     "text": [
      "Unique ChainID : 45\n",
      "Unique ChainName : 45\n",
      "Unique CountryCode : 1\n",
      "Unique CountryFileName : 1\n",
      "Unique CountryName : 1\n",
      "Unique CurrencyCode : 1\n",
      "Unique Facilities : 6128\n",
      "Unique HotelAddress : 13010\n",
      "Unique HotelFileName : 13721\n",
      "Unique HotelID : 13721\n",
      "Unique HotelName : 13707\n",
      "Unique HotelPostcode : 327\n",
      "Unique ImageID : 11115\n",
      "Unique Images : 11111\n",
      "Unique Latitude : 13203\n",
      "Unique Longitude : 13134\n",
      "Unique MinRate : 6710\n",
      "Unique NumberOfReviews : 925\n",
      "Unique OverallRating : 432\n",
      "Unique PlaceFileName : 132\n",
      "Unique PlaceID : 132\n",
      "Unique PlaceName : 132\n",
      "Unique PlaceType : 7\n",
      "Unique Popularity : 13721\n",
      "Unique PropertyType : 26\n",
      "Unique PropertyTypeID : 26\n",
      "Unique StarRating : 11\n",
      "Unique StateName : 1\n",
      "Unique StatePlacefilename : 1\n",
      "Unique StatePlaceID : 1\n",
      "Unique Themes : 332\n",
      "Unique Trademarked : 2\n"
     ]
    }
   ],
   "source": [
    "dataset = HotelsCombinedAPI()\n",
    "for column in dataset[0]:\n",
    "    data = list(str(data) for data in dataset[0][column].unique())\n",
    "    with open('statistics/HotelsCombinedAPI_TW_CN_' + str(column) + '.json', 'w', encoding='utf8') as f:\n",
    "        json.dump(data, f)\n",
    "    print('Unique', column, ':', len(data))"
   ]
  },
  {
   "cell_type": "code",
   "execution_count": 18,
   "metadata": {},
   "outputs": [
    {
     "name": "stdout",
     "output_type": "stream",
     "text": [
      "Unique ChainID : 45\n",
      "Unique ChainName : 45\n",
      "Unique CountryCode : 1\n",
      "Unique CountryFileName : 1\n",
      "Unique CountryName : 1\n",
      "Unique CurrencyCode : 1\n",
      "Unique Facilities : 6128\n",
      "Unique HotelAddress : 13035\n",
      "Unique HotelFileName : 13721\n",
      "Unique HotelID : 13721\n",
      "Unique HotelName : 13721\n",
      "Unique HotelPostcode : 242\n",
      "Unique ImageID : 11115\n",
      "Unique Images : 11111\n",
      "Unique Latitude : 13203\n",
      "Unique Longitude : 13134\n",
      "Unique MinRate : 6710\n",
      "Unique NumberOfReviews : 925\n",
      "Unique OverallRating : 432\n",
      "Unique PlaceFileName : 132\n",
      "Unique PlaceID : 132\n",
      "Unique PlaceName : 132\n",
      "Unique PlaceType : 7\n",
      "Unique Popularity : 13721\n",
      "Unique PropertyType : 26\n",
      "Unique PropertyTypeID : 26\n",
      "Unique StarRating : 11\n",
      "Unique StateName : 1\n",
      "Unique StatePlacefilename : 1\n",
      "Unique StatePlaceID : 1\n",
      "Unique Themes : 332\n",
      "Unique Trademarked : 2\n"
     ]
    }
   ],
   "source": [
    "dataset = HotelsCombinedAPI()\n",
    "for column in dataset[1]:\n",
    "    data = list(str(data) for data in dataset[1][column].unique())\n",
    "    with open('statistics/HotelsCombinedAPI_TW_EN_' + str(column) + '.json', 'w', encoding='utf8') as f:\n",
    "        json.dump(data, f)\n",
    "    print('Unique', column, ':', len(data))"
   ]
  },
  {
   "cell_type": "code",
   "execution_count": 17,
   "metadata": {},
   "outputs": [
    {
     "name": "stdout",
     "output_type": "stream",
     "text": [
      "Unique ThemeID : 17\n",
      "Unique ThemeName : 17\n",
      "Unique Unnamed: 2 : 17\n"
     ]
    }
   ],
   "source": [
    "dataset = HotelsCombinedAPI()\n",
    "for column in dataset[2]:\n",
    "    data = list(str(data) for data in dataset[2][column].unique())\n",
    "    with open('statistics/HotelsCombinedAPI_themes_' + str(column) + '.json', 'w', encoding='utf8') as f:\n",
    "        json.dump(data, f)\n",
    "    print('Unique', column, ':', len(data))"
   ]
  },
  {
   "cell_type": "code",
   "execution_count": 19,
   "metadata": {},
   "outputs": [
    {
     "name": "stdout",
     "output_type": "stream",
     "text": [
      "Unique Country: 134\n"
     ]
    }
   ],
   "source": [
    "dataset = HotelsPixnetlog('HotelsCombined_log.gz')\n",
    "country = set(json.loads(data)['country'] for data in dataset)\n",
    "with open('statistics/HotelsPixnetlog_country.json', 'w', encoding='utf8') as f:\n",
    "    json.dump(list(country), f)\n",
    "print('Unique Country:', len(country))"
   ]
  },
  {
   "cell_type": "code",
   "execution_count": 20,
   "metadata": {},
   "outputs": [
    {
     "name": "stdout",
     "output_type": "stream",
     "text": [
      "Unique City: 4468\n"
     ]
    }
   ],
   "source": [
    "dataset = HotelsPixnetlog('HotelsCombined_log.gz')\n",
    "city = set(json.loads(data)['city'] for data in dataset)\n",
    "with open('statistics/HotelsPixnetlog_city.json', 'w', encoding='utf8') as f:\n",
    "    json.dump(list(city), f)\n",
    "print('Unique City:', len(city))"
   ]
  },
  {
   "cell_type": "code",
   "execution_count": 21,
   "metadata": {},
   "outputs": [
    {
     "name": "stdout",
     "output_type": "stream",
     "text": [
      "Unique Browser: 16\n"
     ]
    }
   ],
   "source": [
    "dataset = HotelsPixnetlog('HotelsCombined_log.gz')\n",
    "browser = set(json.loads(data)['browser'] for data in dataset)\n",
    "with open('statistics/HotelsPixnetlog_browser.json', 'w', encoding='utf8') as f:\n",
    "    json.dump(list(browser), f)\n",
    "print('Unique Browser:', len(browser))"
   ]
  },
  {
   "cell_type": "code",
   "execution_count": 22,
   "metadata": {},
   "outputs": [
    {
     "name": "stdout",
     "output_type": "stream",
     "text": [
      "Unique OS: 14\n"
     ]
    }
   ],
   "source": [
    "dataset = HotelsPixnetlog('HotelsCombined_log.gz')\n",
    "os_type = set(json.loads(data)['os'] for data in dataset)\n",
    "with open('statistics/HotelsPixnetlog_os.json', 'w', encoding='utf8') as f:\n",
    "    json.dump(list(os_type), f)\n",
    "print('Unique OS:', len(os_type))"
   ]
  },
  {
   "cell_type": "code",
   "execution_count": 23,
   "metadata": {},
   "outputs": [
    {
     "name": "stdout",
     "output_type": "stream",
     "text": [
      "Unique Device Model: 2171\n"
     ]
    }
   ],
   "source": [
    "dataset = HotelsPixnetlog('HotelsCombined_log.gz')\n",
    "device_model = set(json.loads(data)['device_model'] for data in dataset)\n",
    "with open('statistics/HotelsPixnetlog_device_model.json', 'w', encoding='utf8') as f:\n",
    "    json.dump(list(device_model), f)\n",
    "print('Unique Device Model:', len(device_model))"
   ]
  },
  {
   "cell_type": "code",
   "execution_count": 24,
   "metadata": {},
   "outputs": [
    {
     "name": "stdout",
     "output_type": "stream",
     "text": [
      "Unique Device Marketing: 266\n"
     ]
    }
   ],
   "source": [
    "dataset = HotelsPixnetlog('HotelsCombined_log.gz')\n",
    "device_marketing = set(json.loads(data)['device_marketing'] for data in dataset)\n",
    "with open('statistics/HotelsPixnetlog_device_marketing.json', 'w', encoding='utf8') as f:\n",
    "    json.dump(list(device_marketing), f)\n",
    "print('Unique Device Marketing:', len(device_marketing))"
   ]
  },
  {
   "cell_type": "code",
   "execution_count": 25,
   "metadata": {},
   "outputs": [
    {
     "name": "stdout",
     "output_type": "stream",
     "text": [
      "Unique Device Brand: 63\n"
     ]
    }
   ],
   "source": [
    "dataset = HotelsPixnetlog('HotelsCombined_log.gz')\n",
    "device_brand = set(json.loads(data)['device_brand'] for data in dataset)\n",
    "with open('statistics/HotelsPixnetlog_device_brand.json', 'w', encoding='utf8') as f:\n",
    "    json.dump(list(device_brand), f)\n",
    "print('Unique Device Brand:', len(device_brand))"
   ]
  },
  {
   "cell_type": "code",
   "execution_count": 26,
   "metadata": {},
   "outputs": [
    {
     "name": "stdout",
     "output_type": "stream",
     "text": [
      "Unique Cookie Age: 5\n"
     ]
    }
   ],
   "source": [
    "dataset = HotelsPixnetlog('HotelsCombined_log.gz')\n",
    "cookie_age = set(json.loads(data)['cookie_age'] for data in dataset)\n",
    "with open('statistics/HotelsPixnetlog_cookie_age.json', 'w', encoding='utf8') as f:\n",
    "    json.dump(list(cookie_age), f)\n",
    "print('Unique Cookie Age:', len(cookie_age))"
   ]
  },
  {
   "cell_type": "code",
   "execution_count": 27,
   "metadata": {},
   "outputs": [
    {
     "name": "stdout",
     "output_type": "stream",
     "text": [
      "Unique Cookie Age: 5\n"
     ]
    }
   ],
   "source": [
    "dataset = HotelsPixnetlog('HotelsCombined_log.gz')\n",
    "label = set(str(json.loads(data)['label']) for data in dataset)\n",
    "with open('statistics/HotelsPixnetlog_label.json', 'w', encoding='utf8') as f:\n",
    "    json.dump(list(cookie_age), f)\n",
    "print('Unique Cookie Age:', len(cookie_age))"
   ]
  },
  {
   "cell_type": "code",
   "execution_count": 28,
   "metadata": {},
   "outputs": [
    {
     "name": "stdout",
     "output_type": "stream",
     "text": [
      "Unique Tags: 286452\n"
     ]
    }
   ],
   "source": [
    "dataset = HotelsPixnetlog('HotelsCombined_log_referrer_url_articles.zip')\n",
    "tags = set()\n",
    "for data in dataset:\n",
    "    try:\n",
    "        jsondata = json.loads(data)\n",
    "        tags.update(jsondata['tags'])\n",
    "    except:\n",
    "        pass\n",
    "with open('statistics/HotelsPixnetlogurl_tags.json', 'w', encoding='utf8') as f:\n",
    "    json.dump(list(tags), f)\n",
    "print('Unique Tags:', len(tags))"
   ]
  },
  {
   "cell_type": "code",
   "execution_count": 30,
   "metadata": {},
   "outputs": [
    {
     "name": "stdout",
     "output_type": "stream",
     "text": [
      "Unique Zone: 3\n"
     ]
    }
   ],
   "source": [
    "dataset = HotelsPixnetTransaction()\n",
    "zone = set(json.loads(data)['zone'] for data in dataset)\n",
    "with open('statistics/HotelsPixnetTransaction_zone.json', 'w', encoding='utf8') as f:\n",
    "    json.dump(list(zone), f)\n",
    "print('Unique Zone:', len(zone))"
   ]
  },
  {
   "cell_type": "code",
   "execution_count": 31,
   "metadata": {},
   "outputs": [
    {
     "name": "stdout",
     "output_type": "stream",
     "text": [
      "Unique Country: 220\n"
     ]
    }
   ],
   "source": [
    "country = set()\n",
    "for dataset_filename in pixnetFolder['pixnet_dataset/使用者瀏覽log/'][:-1]:\n",
    "    dataset = VisitLog(dataset_filename)\n",
    "    country.update(json.loads(data)['country'] for data in dataset)\n",
    "with open('statistics/VisitLog_country.json', 'w', encoding='utf8') as f:\n",
    "    json.dump(list(country), f)\n",
    "print('Unique Country:', len(country))"
   ]
  },
  {
   "cell_type": "code",
   "execution_count": 32,
   "metadata": {},
   "outputs": [
    {
     "name": "stdout",
     "output_type": "stream",
     "text": [
      "Unique City: 17693\n"
     ]
    }
   ],
   "source": [
    "city = set()\n",
    "for dataset_filename in pixnetFolder['pixnet_dataset/使用者瀏覽log/'][:-1]:\n",
    "    dataset = VisitLog(dataset_filename)\n",
    "    city.update(json.loads(data)['city'] for data in dataset)\n",
    "with open('statistics/VisitLog_city.json', 'w', encoding='utf8') as f:\n",
    "    json.dump(list(city), f)\n",
    "print('Unique City:', len(city))"
   ]
  },
  {
   "cell_type": "code",
   "execution_count": 33,
   "metadata": {},
   "outputs": [
    {
     "name": "stdout",
     "output_type": "stream",
     "text": [
      "Unique Browser: 60\n"
     ]
    }
   ],
   "source": [
    "browser = set()\n",
    "for dataset_filename in pixnetFolder['pixnet_dataset/使用者瀏覽log/'][:-1]:\n",
    "    dataset = VisitLog(dataset_filename)\n",
    "    browser.update(json.loads(data)['browser'] for data in dataset)\n",
    "with open('statistics/VisitLog_browser.json', 'w', encoding='utf8') as f:\n",
    "    json.dump(list(browser), f)\n",
    "print('Unique Browser:', len(browser))"
   ]
  },
  {
   "cell_type": "code",
   "execution_count": 34,
   "metadata": {},
   "outputs": [
    {
     "name": "stdout",
     "output_type": "stream",
     "text": [
      "Unique OS: 35\n"
     ]
    }
   ],
   "source": [
    "os_type = set()\n",
    "for dataset_filename in pixnetFolder['pixnet_dataset/使用者瀏覽log/'][:-1]:\n",
    "    dataset = VisitLog(dataset_filename)\n",
    "    os_type.update(json.loads(data)['os'] for data in dataset)\n",
    "with open('statistics/VisitLog_os.json', 'w', encoding='utf8') as f:\n",
    "    json.dump(list(os_type), f)\n",
    "print('Unique OS:', len(os_type))"
   ]
  },
  {
   "cell_type": "code",
   "execution_count": 35,
   "metadata": {},
   "outputs": [
    {
     "name": "stdout",
     "output_type": "stream",
     "text": [
      "Unique Device Model: 6407\n"
     ]
    }
   ],
   "source": [
    "device_model = set()\n",
    "for dataset_filename in pixnetFolder['pixnet_dataset/使用者瀏覽log/'][:-1]:\n",
    "    dataset = VisitLog(dataset_filename)\n",
    "    device_model.update(json.loads(data)['device_model'] for data in dataset)\n",
    "with open('statistics/VisitLog_device_model.json', 'w', encoding='utf8') as f:\n",
    "    json.dump(list(device_model), f)\n",
    "print('Unique Device Model:', len(device_model))"
   ]
  },
  {
   "cell_type": "code",
   "execution_count": 36,
   "metadata": {},
   "outputs": [
    {
     "name": "stdout",
     "output_type": "stream",
     "text": [
      "Unique Device Marketing: 845\n"
     ]
    }
   ],
   "source": [
    "device_marketing = set()\n",
    "for dataset_filename in pixnetFolder['pixnet_dataset/使用者瀏覽log/'][:-1]:\n",
    "    dataset = VisitLog(dataset_filename)\n",
    "    device_marketing.update(json.loads(data)['device_marketing'] for data in dataset)\n",
    "with open('statistics/VisitLog_device_marketing.json', 'w', encoding='utf8') as f:\n",
    "    json.dump(list(device_marketing), f)\n",
    "print('Unique Device Marketing:', len(device_marketing))"
   ]
  },
  {
   "cell_type": "code",
   "execution_count": 37,
   "metadata": {},
   "outputs": [
    {
     "name": "stdout",
     "output_type": "stream",
     "text": [
      "Unique Device Brand: 237\n"
     ]
    }
   ],
   "source": [
    "device_brand = set()\n",
    "for dataset_filename in pixnetFolder['pixnet_dataset/使用者瀏覽log/'][:-1]:\n",
    "    dataset = VisitLog(dataset_filename)\n",
    "    device_brand.update(json.loads(data)['device_brand'] for data in dataset)\n",
    "with open('statistics/VisitLog_device_brand.json', 'w', encoding='utf8') as f:\n",
    "    json.dump(list(device_brand), f)\n",
    "print('Unique Device Brand:', len(device_brand))"
   ]
  },
  {
   "cell_type": "code",
   "execution_count": 38,
   "metadata": {},
   "outputs": [
    {
     "name": "stdout",
     "output_type": "stream",
     "text": [
      "Unique Authod ID 284870\n"
     ]
    }
   ],
   "source": [
    "author_id = set()\n",
    "for dataset_filename in pixnetFolder['pixnet_dataset/使用者瀏覽log/'][:-1]:\n",
    "    dataset = VisitLog(dataset_filename)\n",
    "    author_id.update(json.loads(data)['author_id'] for data in dataset)\n",
    "with open('statistics/VisitLog_author_id.json', 'w', encoding='utf8') as f:\n",
    "    json.dump(list(author_id), f)\n",
    "print('Unique Authod ID', len(author_id))"
   ]
  },
  {
   "cell_type": "code",
   "execution_count": 42,
   "metadata": {},
   "outputs": [
    {
     "name": "stdout",
     "output_type": "stream",
     "text": [
      "Some data might not have category key in it\n",
      "Unique Category ID 71\n"
     ]
    }
   ],
   "source": [
    "category_id = set()\n",
    "for dataset_filename in pixnetFolder['pixnet_dataset/使用者瀏覽log/'][:-1]:\n",
    "    dataset = VisitLog(dataset_filename)\n",
    "    category_id.update(json.loads(data)['category_id'] for data in dataset if 'category_id' in json.loads(data))\n",
    "with open('statistics/VisitLog_category_id.json', 'w', encoding='utf8') as f:\n",
    "    json.dump(list(category_id), f)\n",
    "print('Some data might not have category key in it')\n",
    "print('Unique Category ID', len(category_id))"
   ]
  },
  {
   "cell_type": "code",
   "execution_count": 43,
   "metadata": {},
   "outputs": [
    {
     "name": "stdout",
     "output_type": "stream",
     "text": [
      "Unique Referrer Venur 16\n"
     ]
    }
   ],
   "source": [
    "referrer_venue = set()\n",
    "for dataset_filename in pixnetFolder['pixnet_dataset/使用者瀏覽log/'][:-1]:\n",
    "    dataset = VisitLog(dataset_filename)\n",
    "    referrer_venue.update(json.loads(data)['referrer_venue'] for data in dataset)\n",
    "with open('statistics/VisitLog_referrer_venue.json', 'w', encoding='utf8') as f:\n",
    "    json.dump(list(referrer_venue), f)\n",
    "print('Unique Referrer Venur', len(referrer_venue))"
   ]
  },
  {
   "cell_type": "code",
   "execution_count": 45,
   "metadata": {},
   "outputs": [
    {
     "name": "stdout",
     "output_type": "stream",
     "text": [
      "Unique Cookie Gender 3\n"
     ]
    }
   ],
   "source": [
    "cookie_gender = set()\n",
    "for dataset_filename in pixnetFolder['pixnet_dataset/使用者瀏覽log/'][:-1]:\n",
    "    dataset = VisitLog(dataset_filename)\n",
    "    cookie_gender.update(json.loads(data)['cookie_gender'] for data in dataset)\n",
    "with open('statistics/VisitLog_cookie_gender.json', 'w', encoding='utf8') as f:\n",
    "    json.dump(list(cookie_gender), f)\n",
    "print('Unique Cookie Gender', len(cookie_gender))"
   ]
  },
  {
   "cell_type": "code",
   "execution_count": 46,
   "metadata": {},
   "outputs": [
    {
     "name": "stdout",
     "output_type": "stream",
     "text": [
      "Unique Cookie Age 5\n"
     ]
    }
   ],
   "source": [
    "cookie_age = set()\n",
    "for dataset_filename in pixnetFolder['pixnet_dataset/使用者瀏覽log/'][:-1]:\n",
    "    dataset = VisitLog(dataset_filename)\n",
    "    cookie_age.update(json.loads(data)['cookie_age'] for data in dataset)\n",
    "with open('statistics/VisitLog_cookie_age.json', 'w', encoding='utf8') as f:\n",
    "    json.dump(list(cookie_age), f)\n",
    "print('Unique Cookie Age', len(cookie_age))"
   ]
  },
  {
   "cell_type": "code",
   "execution_count": 47,
   "metadata": {},
   "outputs": [
    {
     "name": "stdout",
     "output_type": "stream",
     "text": [
      "Unique Tags: 2240503\n"
     ]
    }
   ],
   "source": [
    "dataset = VisitLog('PIXNET_visit_log_url_articles.gz')\n",
    "tags = set()\n",
    "for data in dataset:\n",
    "    try:\n",
    "        jsondata = json.loads(data)\n",
    "        tags.update(jsondata['tags'])\n",
    "    except:\n",
    "        pass\n",
    "with open('statistics/VisitLogurl_tags.json', 'w', encoding='utf8') as f:\n",
    "    json.dump(list(tags), f)\n",
    "print('Unique Tags:', len(tags))"
   ]
  },
  {
   "cell_type": "code",
   "execution_count": 48,
   "metadata": {},
   "outputs": [
    {
     "name": "stdout",
     "output_type": "stream",
     "text": [
      "Unique Author: 282769\n"
     ]
    }
   ],
   "source": [
    "author = set()\n",
    "dataset = VisitLog('PIXNET_visit_log_url_articles.gz')\n",
    "for data in dataset:\n",
    "    try:\n",
    "        jsondata = json.loads(data)\n",
    "        author.add(jsondata['author'])\n",
    "    except:\n",
    "        pass\n",
    "with open('statistics/VisitLogurl_author.json', 'w', encoding='utf8') as f:\n",
    "    json.dump(list(author), f)\n",
    "print('Unique Author:', len(author))"
   ]
  },
  {
   "cell_type": "code",
   "execution_count": 49,
   "metadata": {},
   "outputs": [
    {
     "name": "stdout",
     "output_type": "stream",
     "text": [
      "Unique Category: 42\n"
     ]
    }
   ],
   "source": [
    "category = set()\n",
    "dataset = VisitLog('PIXNET_visit_log_url_articles.gz')\n",
    "for data in dataset:\n",
    "    try:\n",
    "        jsondata = json.loads(data)\n",
    "        category.add(jsondata['category'])\n",
    "    except:\n",
    "        pass\n",
    "with open('statistics/VisitLogurl_category.json', 'w', encoding='utf8') as f:\n",
    "    json.dump(list(category), f)\n",
    "print('Unique Category:', len(category))"
   ]
  },
  {
   "cell_type": "code",
   "execution_count": 50,
   "metadata": {},
   "outputs": [
    {
     "name": "stdout",
     "output_type": "stream",
     "text": [
      "Unique e_category 9\n"
     ]
    }
   ],
   "source": [
    "e_category = set()\n",
    "for dataset_filename in pixnetFolder['pixnet_dataset/使用者點擊log/'][:-1]:\n",
    "    dataset = EventLog(dataset_filename)\n",
    "    e_category.update(json.loads(data)['e_category'] for data in dataset)\n",
    "with open('statistics/EventLog_e_category.json', 'w', encoding='utf8') as f:\n",
    "    json.dump(list(e_category), f)\n",
    "print('Unique e_category', len(e_category))"
   ]
  },
  {
   "cell_type": "code",
   "execution_count": 51,
   "metadata": {},
   "outputs": [
    {
     "name": "stdout",
     "output_type": "stream",
     "text": [
      "Unique e_action 61\n"
     ]
    }
   ],
   "source": [
    "e_action = set()\n",
    "for dataset_filename in pixnetFolder['pixnet_dataset/使用者點擊log/'][:-1]:\n",
    "    dataset = EventLog(dataset_filename)\n",
    "    e_action.update(json.loads(data)['e_action'] for data in dataset)\n",
    "with open('statistics/EventLog_e_action.json', 'w', encoding='utf8') as f:\n",
    "    json.dump(list(e_action), f)\n",
    "print('Unique e_action', len(e_action))"
   ]
  },
  {
   "cell_type": "code",
   "execution_count": 52,
   "metadata": {},
   "outputs": [
    {
     "name": "stdout",
     "output_type": "stream",
     "text": [
      "Unique e_label 1022819\n"
     ]
    }
   ],
   "source": [
    "e_label = set()\n",
    "for dataset_filename in pixnetFolder['pixnet_dataset/使用者點擊log/'][:-1]:\n",
    "    dataset = EventLog(dataset_filename)\n",
    "    e_label.update(json.loads(data)['e_label'] for data in dataset)\n",
    "with open('statistics/EventLog_e_label.json', 'w', encoding='utf8') as f:\n",
    "    json.dump(list(e_label), f)\n",
    "print('Unique e_label', len(e_label))"
   ]
  },
  {
   "cell_type": "code",
   "execution_count": 53,
   "metadata": {},
   "outputs": [
    {
     "name": "stdout",
     "output_type": "stream",
     "text": [
      "Unique country 223\n"
     ]
    }
   ],
   "source": [
    "country = set()\n",
    "for dataset_filename in pixnetFolder['pixnet_dataset/使用者點擊log/'][:-1]:\n",
    "    dataset = EventLog(dataset_filename)\n",
    "    country.update(json.loads(data)['country'] for data in dataset)\n",
    "with open('statistics/EventLog_country.json', 'w', encoding='utf8') as f:\n",
    "    json.dump(list(country), f)\n",
    "print('Unique country', len(country))"
   ]
  },
  {
   "cell_type": "code",
   "execution_count": 54,
   "metadata": {},
   "outputs": [
    {
     "name": "stdout",
     "output_type": "stream",
     "text": [
      "Unique city 17994\n"
     ]
    }
   ],
   "source": [
    "city = set()\n",
    "for dataset_filename in pixnetFolder['pixnet_dataset/使用者點擊log/'][:-1]:\n",
    "    dataset = EventLog(dataset_filename)\n",
    "    city.update(json.loads(data)['city'] for data in dataset)\n",
    "with open('statistics/EventLog_city.json', 'w', encoding='utf8') as f:\n",
    "    json.dump(list(city), f)\n",
    "print('Unique city', len(city))"
   ]
  },
  {
   "cell_type": "code",
   "execution_count": 55,
   "metadata": {},
   "outputs": [
    {
     "name": "stdout",
     "output_type": "stream",
     "text": [
      "Unique browser 61\n"
     ]
    }
   ],
   "source": [
    "browser = set()\n",
    "for dataset_filename in pixnetFolder['pixnet_dataset/使用者點擊log/'][:-1]:\n",
    "    dataset = EventLog(dataset_filename)\n",
    "    browser.update(json.loads(data)['browser'] for data in dataset)\n",
    "with open('statistics/EventLog_browser.json', 'w', encoding='utf8') as f:\n",
    "    json.dump(list(browser), f)\n",
    "print('Unique browser', len(browser))"
   ]
  },
  {
   "cell_type": "code",
   "execution_count": 56,
   "metadata": {},
   "outputs": [
    {
     "name": "stdout",
     "output_type": "stream",
     "text": [
      "Unique os 35\n"
     ]
    }
   ],
   "source": [
    "os_type = set()\n",
    "for dataset_filename in pixnetFolder['pixnet_dataset/使用者點擊log/'][:-1]:\n",
    "    dataset = EventLog(dataset_filename)\n",
    "    os_type.update(json.loads(data)['os'] for data in dataset)\n",
    "with open('statistics/EventLog_os.json', 'w', encoding='utf8') as f:\n",
    "    json.dump(list(os_type), f)\n",
    "print('Unique os', len(os_type))"
   ]
  },
  {
   "cell_type": "code",
   "execution_count": 57,
   "metadata": {},
   "outputs": [
    {
     "name": "stdout",
     "output_type": "stream",
     "text": [
      "Unique device_model 6548\n"
     ]
    }
   ],
   "source": [
    "device_model = set()\n",
    "for dataset_filename in pixnetFolder['pixnet_dataset/使用者點擊log/'][:-1]:\n",
    "    dataset = EventLog(dataset_filename)\n",
    "    device_model.update(json.loads(data)['device_model'] for data in dataset)\n",
    "with open('statistics/EventLog_device_model.json', 'w', encoding='utf8') as f:\n",
    "    json.dump(list(device_model), f)\n",
    "print('Unique device_model', len(device_model))"
   ]
  },
  {
   "cell_type": "code",
   "execution_count": 58,
   "metadata": {},
   "outputs": [
    {
     "name": "stdout",
     "output_type": "stream",
     "text": [
      "Unique device_marketing 803\n"
     ]
    }
   ],
   "source": [
    "device_marketing = set()\n",
    "for dataset_filename in pixnetFolder['pixnet_dataset/使用者點擊log/'][:-1]:\n",
    "    dataset = EventLog(dataset_filename)\n",
    "    device_marketing.update(json.loads(data)['device_marketing'] for data in dataset)\n",
    "with open('statistics/EventLog_device_marketing.json', 'w', encoding='utf8') as f:\n",
    "    json.dump(list(device_marketing), f)\n",
    "print('Unique device_marketing', len(device_marketing))"
   ]
  },
  {
   "cell_type": "code",
   "execution_count": 59,
   "metadata": {},
   "outputs": [
    {
     "name": "stdout",
     "output_type": "stream",
     "text": [
      "Unique device_brand 221\n"
     ]
    }
   ],
   "source": [
    "device_brand = set()\n",
    "for dataset_filename in pixnetFolder['pixnet_dataset/使用者點擊log/'][:-1]:\n",
    "    dataset = EventLog(dataset_filename)\n",
    "    device_brand.update(json.loads(data)['device_brand'] for data in dataset)\n",
    "with open('statistics/EventLog_device_brand.json', 'w', encoding='utf8') as f:\n",
    "    json.dump(list(device_brand), f)\n",
    "print('Unique device_brand', len(device_brand))"
   ]
  },
  {
   "cell_type": "code",
   "execution_count": 61,
   "metadata": {},
   "outputs": [
    {
     "name": "stdout",
     "output_type": "stream",
     "text": [
      "Some data might not have category key in it\n",
      "Unique category_id 51\n"
     ]
    }
   ],
   "source": [
    "category_id = set()\n",
    "for dataset_filename in pixnetFolder['pixnet_dataset/使用者點擊log/'][:-1]:\n",
    "    dataset = EventLog(dataset_filename)\n",
    "    category_id.update(json.loads(data)['category_id'] for data in dataset if 'category_id' in json.loads(data))\n",
    "with open('statistics/EventLog_category_id.json', 'w', encoding='utf8') as f:\n",
    "    json.dump(list(category_id), f)\n",
    "print('Some data might not have category key in it')\n",
    "print('Unique category_id', len(category_id))"
   ]
  },
  {
   "cell_type": "code",
   "execution_count": 62,
   "metadata": {},
   "outputs": [
    {
     "name": "stdout",
     "output_type": "stream",
     "text": [
      "Unique author_id 310086\n"
     ]
    }
   ],
   "source": [
    "author_id = set()\n",
    "for dataset_filename in pixnetFolder['pixnet_dataset/使用者點擊log/'][:-1]:\n",
    "    dataset = EventLog(dataset_filename)\n",
    "    author_id.update(json.loads(data)['author_id'] for data in dataset)\n",
    "with open('statistics/EventLog_author_id.json', 'w', encoding='utf8') as f:\n",
    "    json.dump(list(author_id), f)\n",
    "print('Unique author_id', len(author_id))"
   ]
  },
  {
   "cell_type": "code",
   "execution_count": 63,
   "metadata": {},
   "outputs": [
    {
     "name": "stdout",
     "output_type": "stream",
     "text": [
      "Unique author: 307837\n"
     ]
    }
   ],
   "source": [
    "dataset = EventLog('PIXNET_event_log_url_articles.zip')\n",
    "author = set()\n",
    "for data in dataset:\n",
    "    try:\n",
    "        jsondata = json.loads(data)\n",
    "        author.add(jsondata['author'])\n",
    "    except:\n",
    "        pass\n",
    "with open('statistics/EventLogurl_author.json', 'w', encoding='utf8') as f:\n",
    "    json.dump(list(author), f)\n",
    "print('Unique author:', len(author))"
   ]
  },
  {
   "cell_type": "code",
   "execution_count": 64,
   "metadata": {},
   "outputs": [
    {
     "name": "stdout",
     "output_type": "stream",
     "text": [
      "Unique Tags: 2341746\n"
     ]
    }
   ],
   "source": [
    "dataset = EventLog('PIXNET_event_log_url_articles.zip')\n",
    "tags = set()\n",
    "for data in dataset:\n",
    "    try:\n",
    "        jsondata = json.loads(data)\n",
    "        tags.update(jsondata['tags'])\n",
    "    except:\n",
    "        pass\n",
    "with open('statistics/EventLogurl_tags.json', 'w', encoding='utf8') as f:\n",
    "    json.dump(list(tags), f)\n",
    "print('Unique Tags:', len(tags))"
   ]
  },
  {
   "cell_type": "code",
   "execution_count": 66,
   "metadata": {},
   "outputs": [
    {
     "name": "stdout",
     "output_type": "stream",
     "text": [
      "Unique category: 42\n"
     ]
    }
   ],
   "source": [
    "dataset = EventLog('PIXNET_event_log_url_articles.zip')\n",
    "category = set()\n",
    "for data in dataset:\n",
    "    try:\n",
    "        jsondata = json.loads(data)\n",
    "        category.add(jsondata['category'])\n",
    "    except:\n",
    "        pass\n",
    "with open('statistics/EventLogurl_category.json', 'w', encoding='utf8') as f:\n",
    "    json.dump(list(category), f)\n",
    "print('Unique category:', len(category))"
   ]
  },
  {
   "cell_type": "code",
   "execution_count": null,
   "metadata": {},
   "outputs": [],
   "source": []
  }
 ],
 "metadata": {
  "kernelspec": {
   "display_name": "Python 3",
   "language": "python",
   "name": "python3"
  },
  "language_info": {
   "codemirror_mode": {
    "name": "ipython",
    "version": 3
   },
   "file_extension": ".py",
   "mimetype": "text/x-python",
   "name": "python",
   "nbconvert_exporter": "python",
   "pygments_lexer": "ipython3",
   "version": "3.6.8"
  }
 },
 "nbformat": 4,
 "nbformat_minor": 2
}
