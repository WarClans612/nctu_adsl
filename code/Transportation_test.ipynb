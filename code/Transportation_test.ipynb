{
 "cells": [
  {
   "cell_type": "code",
   "execution_count": 2,
   "metadata": {},
   "outputs": [],
   "source": [
    "import json"
   ]
  },
  {
   "cell_type": "code",
   "execution_count": 2,
   "metadata": {},
   "outputs": [],
   "source": [
    "with open('Transportation_data/railway_schedule/20191018.json' , 'r') as reader:\n",
    "    jf = json.loads(reader.read())\n",
    "\n",
    "station_num = set()    \n",
    "\n",
    "for i in range(len(jf['TrainInfos'])):\n",
    "    for j in range(len(jf['TrainInfos'][i]['TimeInfos'])):\n",
    "        station_num.add(jf['TrainInfos'][i]['TimeInfos'][j]['Station'])"
   ]
  },
  {
   "cell_type": "code",
   "execution_count": 3,
   "metadata": {},
   "outputs": [],
   "source": [
    "with open('Transportation_data/車站基本資料集.json' , 'r') as reader2:\n",
    "    jf2 = json.loads(reader2.read())\n",
    "    \n",
    "all_stationCode = set()\n",
    "for i in range(len(jf2)):\n",
    "    all_stationCode.add(jf2[i]['stationCode'])"
   ]
  },
  {
   "cell_type": "code",
   "execution_count": 4,
   "metadata": {},
   "outputs": [
    {
     "data": {
      "text/plain": [
       "{'4440', '7390'}"
      ]
     },
     "execution_count": 4,
     "metadata": {},
     "output_type": "execute_result"
    }
   ],
   "source": [
    "station_num.difference(all_stationCode)"
   ]
  },
  {
   "cell_type": "code",
   "execution_count": 5,
   "metadata": {
    "scrolled": true
   },
   "outputs": [
    {
     "name": "stdout",
     "output_type": "stream",
     "text": [
      "古奇峰\n",
      "06:00\n",
      "06:00\n"
     ]
    }
   ],
   "source": [
    "with open('Transportation_data/bus_schedule/Hsinchu.json' , 'r') as reader3:\n",
    "    jf3 = json.loads(reader3.read())\n",
    "\n",
    "\n",
    "print(jf3[0]['Timetables'][0]['StopTimes'][0]['StopName']['Zh_tw'])\n",
    "print(jf3[0]['Timetables'][0]['StopTimes'][0]['ArrivalTime'])\n",
    "print(jf3[0]['Timetables'][0]['StopTimes'][0]['DepartureTime'])"
   ]
  },
  {
   "cell_type": "code",
   "execution_count": 6,
   "metadata": {},
   "outputs": [
    {
     "name": "stdout",
     "output_type": "stream",
     "text": [
      "81\n",
      "\n",
      "[{'TripID': '1', 'ServiceDay': {'Sunday': 0, 'Monday': 1, 'Tuesday': 1, 'Wednesday': 1, 'Thursday': 1, 'Friday': 1, 'Saturday': 0}, 'StopTimes': [{'StopSequence': 1, 'StopUID': 'HSZ294384', 'StopID': '294384', 'StopName': {'Zh_tw': '古奇峰', 'En': 'Ku Chi Peak'}, 'ArrivalTime': '06:00', 'DepartureTime': '06:00'}]}, {'TripID': '10', 'ServiceDay': {'Sunday': 0, 'Monday': 1, 'Tuesday': 1, 'Wednesday': 1, 'Thursday': 1, 'Friday': 1, 'Saturday': 0}, 'StopTimes': [{'StopSequence': 1, 'StopUID': 'HSZ294384', 'StopID': '294384', 'StopName': {'Zh_tw': '古奇峰', 'En': 'Ku Chi Peak'}, 'ArrivalTime': '16:10', 'DepartureTime': '16:10'}]}, {'TripID': '11', 'ServiceDay': {'Sunday': 1, 'Monday': 0, 'Tuesday': 0, 'Wednesday': 0, 'Thursday': 0, 'Friday': 0, 'Saturday': 1}, 'StopTimes': [{'StopSequence': 1, 'StopUID': 'HSZ294384', 'StopID': '294384', 'StopName': {'Zh_tw': '古奇峰', 'En': 'Ku Chi Peak'}, 'ArrivalTime': '16:40', 'DepartureTime': '16:40'}]}, {'TripID': '12', 'ServiceDay': {'Sunday': 0, 'Monday': 1, 'Tuesday': 1, 'Wednesday': 1, 'Thursday': 1, 'Friday': 1, 'Saturday': 0}, 'StopTimes': [{'StopSequence': 1, 'StopUID': 'HSZ294384', 'StopID': '294384', 'StopName': {'Zh_tw': '古奇峰', 'En': 'Ku Chi Peak'}, 'ArrivalTime': '17:10', 'DepartureTime': '17:10'}]}, {'TripID': '13', 'ServiceDay': {'Sunday': 1, 'Monday': 0, 'Tuesday': 0, 'Wednesday': 0, 'Thursday': 0, 'Friday': 0, 'Saturday': 1}, 'StopTimes': [{'StopSequence': 1, 'StopUID': 'HSZ294384', 'StopID': '294384', 'StopName': {'Zh_tw': '古奇峰', 'En': 'Ku Chi Peak'}, 'ArrivalTime': '17:40', 'DepartureTime': '17:40'}]}, {'TripID': '14', 'ServiceDay': {'Sunday': 0, 'Monday': 1, 'Tuesday': 1, 'Wednesday': 1, 'Thursday': 1, 'Friday': 1, 'Saturday': 0}, 'StopTimes': [{'StopSequence': 1, 'StopUID': 'HSZ294384', 'StopID': '294384', 'StopName': {'Zh_tw': '古奇峰', 'En': 'Ku Chi Peak'}, 'ArrivalTime': '18:40', 'DepartureTime': '18:40'}]}, {'TripID': '15', 'ServiceDay': {'Sunday': 1, 'Monday': 0, 'Tuesday': 0, 'Wednesday': 0, 'Thursday': 0, 'Friday': 0, 'Saturday': 1}, 'StopTimes': [{'StopSequence': 1, 'StopUID': 'HSZ294384', 'StopID': '294384', 'StopName': {'Zh_tw': '古奇峰', 'En': 'Ku Chi Peak'}, 'ArrivalTime': '19:40', 'DepartureTime': '19:40'}]}, {'TripID': '16', 'ServiceDay': {'Sunday': 0, 'Monday': 1, 'Tuesday': 1, 'Wednesday': 1, 'Thursday': 1, 'Friday': 1, 'Saturday': 0}, 'StopTimes': [{'StopSequence': 1, 'StopUID': 'HSZ294384', 'StopID': '294384', 'StopName': {'Zh_tw': '古奇峰', 'En': 'Ku Chi Peak'}, 'ArrivalTime': '20:10', 'DepartureTime': '20:10'}]}, {'TripID': '2', 'ServiceDay': {'Sunday': 0, 'Monday': 1, 'Tuesday': 1, 'Wednesday': 1, 'Thursday': 1, 'Friday': 1, 'Saturday': 0}, 'StopTimes': [{'StopSequence': 1, 'StopUID': 'HSZ294384', 'StopID': '294384', 'StopName': {'Zh_tw': '古奇峰', 'En': 'Ku Chi Peak'}, 'ArrivalTime': '07:40', 'DepartureTime': '07:40'}]}, {'TripID': '3', 'ServiceDay': {'Sunday': 1, 'Monday': 1, 'Tuesday': 1, 'Wednesday': 1, 'Thursday': 1, 'Friday': 1, 'Saturday': 1}, 'StopTimes': [{'StopSequence': 1, 'StopUID': 'HSZ294384', 'StopID': '294384', 'StopName': {'Zh_tw': '古奇峰', 'En': 'Ku Chi Peak'}, 'ArrivalTime': '08:40', 'DepartureTime': '08:40'}]}, {'TripID': '4', 'ServiceDay': {'Sunday': 1, 'Monday': 1, 'Tuesday': 1, 'Wednesday': 1, 'Thursday': 1, 'Friday': 1, 'Saturday': 1}, 'StopTimes': [{'StopSequence': 1, 'StopUID': 'HSZ294384', 'StopID': '294384', 'StopName': {'Zh_tw': '古奇峰', 'En': 'Ku Chi Peak'}, 'ArrivalTime': '09:40', 'DepartureTime': '09:40'}]}, {'TripID': '5', 'ServiceDay': {'Sunday': 1, 'Monday': 0, 'Tuesday': 0, 'Wednesday': 0, 'Thursday': 0, 'Friday': 0, 'Saturday': 1}, 'StopTimes': [{'StopSequence': 1, 'StopUID': 'HSZ294384', 'StopID': '294384', 'StopName': {'Zh_tw': '古奇峰', 'En': 'Ku Chi Peak'}, 'ArrivalTime': '10:40', 'DepartureTime': '10:40'}]}, {'TripID': '6', 'ServiceDay': {'Sunday': 0, 'Monday': 1, 'Tuesday': 1, 'Wednesday': 1, 'Thursday': 1, 'Friday': 1, 'Saturday': 0}, 'StopTimes': [{'StopSequence': 1, 'StopUID': 'HSZ294384', 'StopID': '294384', 'StopName': {'Zh_tw': '古奇峰', 'En': 'Ku Chi Peak'}, 'ArrivalTime': '11:10', 'DepartureTime': '11:10'}]}, {'TripID': '7', 'ServiceDay': {'Sunday': 0, 'Monday': 1, 'Tuesday': 1, 'Wednesday': 1, 'Thursday': 1, 'Friday': 1, 'Saturday': 0}, 'StopTimes': [{'StopSequence': 1, 'StopUID': 'HSZ294384', 'StopID': '294384', 'StopName': {'Zh_tw': '古奇峰', 'En': 'Ku Chi Peak'}, 'ArrivalTime': '13:10', 'DepartureTime': '13:10'}]}, {'TripID': '8', 'ServiceDay': {'Sunday': 1, 'Monday': 0, 'Tuesday': 0, 'Wednesday': 0, 'Thursday': 0, 'Friday': 0, 'Saturday': 1}, 'StopTimes': [{'StopSequence': 1, 'StopUID': 'HSZ294384', 'StopID': '294384', 'StopName': {'Zh_tw': '古奇峰', 'En': 'Ku Chi Peak'}, 'ArrivalTime': '14:40', 'DepartureTime': '14:40'}]}, {'TripID': '9', 'ServiceDay': {'Sunday': 0, 'Monday': 1, 'Tuesday': 1, 'Wednesday': 1, 'Thursday': 1, 'Friday': 1, 'Saturday': 0}, 'StopTimes': [{'StopSequence': 1, 'StopUID': 'HSZ294384', 'StopID': '294384', 'StopName': {'Zh_tw': '古奇峰', 'En': 'Ku Chi Peak'}, 'ArrivalTime': '15:10', 'DepartureTime': '15:10'}]}]\n"
     ]
    }
   ],
   "source": [
    "print(jf3[0]['RouteName']['Zh_tw'])\n",
    "print()\n",
    "print(jf3[0]['Timetables'])"
   ]
  },
  {
   "cell_type": "code",
   "execution_count": 31,
   "metadata": {},
   "outputs": [
    {
     "name": "stdout",
     "output_type": "stream",
     "text": [
      "['歡仔園', '佳佳幼稚園', '僑中一街', '僑中二街', '藍天世紀城']\n",
      "['10132', '10132', '17728', '17728']\n",
      "['17728']\n",
      "['10132', '10132', '17728', '17728']\n",
      "['17728']\n",
      "['17728']\n"
     ]
    }
   ],
   "source": [
    "import math, heapq\n",
    "\n",
    "with open('Transportation_data/bus_schedule/Taipei_route.json' , 'r') as readfile:\n",
    "    file = json.load(readfile)\n",
    "    \n",
    "\n",
    "PositionA = (25.011, 121.444)\n",
    "PositionB = (25.221, 121.301)\n",
    "\n",
    "#given location, find 5 nearest bus stops' stationID\n",
    "def top5nearstop(Position, file):\n",
    "    \n",
    "    stop_distance = {}\n",
    "    for route in file:\n",
    "        for stop in route['Stops']:\n",
    "            distance = (stop['StopPosition']['PositionLat'] - Position[0])**2 + (stop['StopPosition']['PositionLon'] - Position[1])**2\n",
    "            distance = math.sqrt(distance)\n",
    "            stop_distance[stop['StopName']['Zh_tw']] = distance\n",
    "\n",
    "    top5_distance = heapq.nsmallest(5, stop_distance.values())\n",
    "    top5_StationID = []\n",
    "\n",
    "    for value in top5_distance: \n",
    "        for key in stop_distance:\n",
    "            if stop_distance[key] == value:\n",
    "                #print(key,\"\\t\", stop_distance[key])\n",
    "                top5_StationID.append(key)\n",
    "    return top5_StationID\n",
    "\n",
    "#given stationID, return related route                \n",
    "def relatedRoute(StationID, file):\n",
    "    return [route['RouteID'] for route in file for stop in route[\"Stops\"] if stop['StopName']['Zh_tw'] == StationID]\n",
    "\n",
    "top5_StationID = top5nearstop(PositionA, file)\n",
    "top5_related_routes = []\n",
    "for StationID in top5_StationID:\n",
    "    top5_related_routes.append(relatedRoute(StationID, file))\n",
    "\n",
    "print(top5nearstop(PositionA, file))\n",
    "\n",
    "for StationID in top5_StationID:\n",
    "    print(relatedRoute(StationID, file))"
   ]
  },
  {
   "cell_type": "code",
   "execution_count": 12,
   "metadata": {
    "scrolled": true
   },
   "outputs": [
    {
     "name": "stdout",
     "output_type": "stream",
     "text": [
      "{'ChanghuaCounty': 13, 'Chiayi': 3, 'ChiayiCounty': 8, 'Hsinchu': 27, 'HsinchuCounty': 29, 'HualienCounty': 6, 'Kaohsiung': 319, 'Keelung': 136, 'KinmenCounty': 97, 'LienchiangCounty': 41, 'MiaoliCounty': 1, 'NantouCounty': 3, 'NewTaipei': 604, 'PenghuCounty': 14, 'PingtungCounty': 27, 'Taichung': 301, 'Tainan': 127, 'Taipei': 386, 'TaitungCounty': 2, 'Taoyuan': 379, 'YilanCounty': 75, 'YunlinCounty': 7}\n"
     ]
    }
   ],
   "source": [
    "import csv\n",
    "\n",
    "total_route = {}\n",
    "\n",
    "with open('Transportation_data/bus_schedule/ChanghuaCounty_route.json' , 'r') as readfile:\n",
    "    file = json.load(readfile)\n",
    "cnt = set()\n",
    "for route in file:\n",
    "    cnt.add(route['RouteID'])\n",
    "total_route['ChanghuaCounty'] = len(cnt)\n",
    "\n",
    "with open('Transportation_data/bus_schedule/Chiayi_route.json' , 'r') as readfile:\n",
    "    file = json.load(readfile)\n",
    "cnt = set()\n",
    "for route in file:\n",
    "    cnt.add(route['RouteID'])\n",
    "total_route['Chiayi'] = len(cnt)\n",
    "\n",
    "with open('Transportation_data/bus_schedule/ChiayiCounty_route.json' , 'r') as readfile:\n",
    "    file = json.load(readfile)\n",
    "cnt = set()\n",
    "for route in file:\n",
    "    cnt.add(route['RouteID'])\n",
    "total_route['ChiayiCounty'] = len(cnt)\n",
    "\n",
    "with open('Transportation_data/bus_schedule/Hsinchu_route.json' , 'r') as readfile:\n",
    "    file = json.load(readfile)\n",
    "cnt = set()\n",
    "for route in file:\n",
    "    cnt.add(route['RouteID'])\n",
    "total_route['Hsinchu'] = len(cnt)\n",
    "\n",
    "with open('Transportation_data/bus_schedule/HsinchuCounty_route.json' , 'r') as readfile:\n",
    "    file = json.load(readfile)\n",
    "cnt = set()\n",
    "for route in file:\n",
    "    cnt.add(route['RouteID'])\n",
    "total_route['HsinchuCounty'] = len(cnt)\n",
    "\n",
    "with open('Transportation_data/bus_schedule/HualienCounty_route.json' , 'r') as readfile:\n",
    "    file = json.load(readfile)\n",
    "cnt = set()\n",
    "for route in file:\n",
    "    cnt.add(route['RouteID'])\n",
    "total_route['HualienCounty'] = len(cnt)\n",
    "\n",
    "with open('Transportation_data/bus_schedule/Kaohsiung.json' , 'r') as readfile:\n",
    "    file = json.load(readfile)\n",
    "cnt = set()\n",
    "for route in file:\n",
    "    cnt.add(route['RouteID'])\n",
    "total_route['Kaohsiung'] = len(cnt)\n",
    "\n",
    "with open('Transportation_data/bus_schedule/Keelung_route.json' , 'r') as readfile:\n",
    "    file = json.load(readfile)\n",
    "cnt = set()\n",
    "for route in file:\n",
    "    cnt.add(route['RouteID'])\n",
    "total_route['Keelung'] = len(cnt)\n",
    "\n",
    "with open('Transportation_data/bus_schedule/KinmenCounty_route.json' , 'r') as readfile:\n",
    "    file = json.load(readfile)\n",
    "cnt = set()\n",
    "for route in file:\n",
    "    cnt.add(route['RouteID'])\n",
    "total_route['KinmenCounty'] = len(cnt)\n",
    "\n",
    "with open('Transportation_data/bus_schedule/LienchiangCounty.json' , 'r') as readfile:\n",
    "    file = json.load(readfile)\n",
    "cnt = set()\n",
    "for route in file:\n",
    "    cnt.add(route['RouteID'])\n",
    "total_route['LienchiangCounty'] = len(cnt)\n",
    "\n",
    "with open('Transportation_data/bus_schedule/MiaoliCounty_route.json' , 'r') as readfile:\n",
    "    file = json.load(readfile)\n",
    "cnt = set()\n",
    "for route in file:\n",
    "    cnt.add(route['RouteID'])\n",
    "total_route['MiaoliCounty'] = len(cnt)\n",
    "\n",
    "with open('Transportation_data/bus_schedule/NantouCounty_route.json' , 'r') as readfile:\n",
    "    file = json.load(readfile)\n",
    "cnt = set()\n",
    "for route in file:\n",
    "    cnt.add(route['RouteID'])\n",
    "total_route['NantouCounty'] = len(cnt)\n",
    "\n",
    "with open('Transportation_data/bus_schedule/NewTaipei_route.json' , 'r') as readfile:\n",
    "    file = json.load(readfile)\n",
    "cnt = set()\n",
    "for route in file:\n",
    "    cnt.add(route['RouteID'])\n",
    "total_route['NewTaipei'] = len(cnt)\n",
    "\n",
    "with open('Transportation_data/bus_schedule/PenghuCounty_route.json' , 'r') as readfile:\n",
    "    file = json.load(readfile)\n",
    "cnt = set()\n",
    "for route in file:\n",
    "    cnt.add(route['RouteID'])\n",
    "total_route['PenghuCounty'] = len(cnt)\n",
    "\n",
    "with open('Transportation_data/bus_schedule/PingtungCounty_route.json' , 'r') as readfile:\n",
    "    file = json.load(readfile)\n",
    "cnt = set()\n",
    "for route in file:\n",
    "    cnt.add(route['RouteID'])\n",
    "total_route['PingtungCounty'] = len(cnt)\n",
    "\n",
    "with open('Transportation_data/bus_schedule/Taichung.json' , 'r') as readfile:\n",
    "    file = json.load(readfile)\n",
    "cnt = set()\n",
    "for route in file:\n",
    "    cnt.add(route['RouteID'])\n",
    "total_route['Taichung'] = len(cnt)\n",
    "\n",
    "with open('Transportation_data/bus_schedule/Tainan_route.json' , 'r') as readfile:\n",
    "    file = json.load(readfile)\n",
    "cnt = set()\n",
    "for route in file:\n",
    "    cnt.add(route['RouteID'])\n",
    "total_route['Tainan'] = len(cnt)\n",
    "\n",
    "with open('Transportation_data/bus_schedule/Taipei_route.json' , 'r') as readfile:\n",
    "    file = json.load(readfile)\n",
    "cnt = set()\n",
    "for route in file:\n",
    "    cnt.add(route['RouteID'])\n",
    "total_route['Taipei'] = len(cnt)\n",
    "\n",
    "with open('Transportation_data/bus_schedule/TaitungCounty_route.json' , 'r') as readfile:\n",
    "    file = json.load(readfile)\n",
    "cnt = set()\n",
    "for route in file:\n",
    "    cnt.add(route['RouteID'])\n",
    "total_route['TaitungCounty'] = len(cnt)\n",
    "\n",
    "with open('Transportation_data/bus_schedule/Taoyuan.json' , 'r') as readfile:\n",
    "    file = json.load(readfile)\n",
    "cnt = set()\n",
    "for route in file:\n",
    "    cnt.add(route['RouteID'])\n",
    "total_route['Taoyuan'] = len(cnt)\n",
    "\n",
    "with open('Transportation_data/bus_schedule/YilanCounty_route.json' , 'r') as readfile:\n",
    "    file = json.load(readfile)\n",
    "cnt = set()\n",
    "for route in file:\n",
    "    cnt.add(route['RouteID'])\n",
    "total_route['YilanCounty'] = len(cnt)\n",
    "\n",
    "with open('Transportation_data/bus_schedule/YunlinCounty_route.json' , 'r') as readfile:\n",
    "    file = json.load(readfile)\n",
    "cnt = set()\n",
    "for route in file:\n",
    "    cnt.add(route['RouteID'])\n",
    "total_route['YunlinCounty'] = len(cnt)\n",
    "\n",
    "print(total_route)"
   ]
  },
  {
   "cell_type": "code",
   "execution_count": 24,
   "metadata": {},
   "outputs": [
    {
     "name": "stdout",
     "output_type": "stream",
     "text": [
      "946 366\n"
     ]
    }
   ],
   "source": [
    "with open('Transportation_data/bus_schedule/Hsinchu_route.json' , 'r') as readfile:\n",
    "    file = json.load(readfile)\n",
    "cnt = set()\n",
    "cnt2 = set()\n",
    "for route in file:\n",
    "    for stop in route['Stops']:\n",
    "        cnt.add(stop['StopID'])\n",
    "        cnt2.add(stop['StopName']['Zh_tw'])\n",
    "print(len(cnt), len(cnt2))"
   ]
  },
  {
   "cell_type": "code",
   "execution_count": null,
   "metadata": {},
   "outputs": [],
   "source": []
  }
 ],
 "metadata": {
  "kernelspec": {
   "display_name": "Python 3",
   "language": "python",
   "name": "python3"
  },
  "language_info": {
   "codemirror_mode": {
    "name": "ipython",
    "version": 3
   },
   "file_extension": ".py",
   "mimetype": "text/x-python",
   "name": "python",
   "nbconvert_exporter": "python",
   "pygments_lexer": "ipython3",
   "version": "3.6.8"
  }
 },
 "nbformat": 4,
 "nbformat_minor": 2
}
